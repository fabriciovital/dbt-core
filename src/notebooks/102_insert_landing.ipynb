{
 "cells": [
  {
   "cell_type": "markdown",
   "id": "06b54693-49c4-49bb-935f-96461398e329",
   "metadata": {
    "tags": []
   },
   "source": [
    "# el_api_to_landing_isp_performance"
   ]
  },
  {
   "cell_type": "code",
   "execution_count": 1,
   "id": "ab70d454-3d68-4bad-9bf1-b978556ca2cd",
   "metadata": {},
   "outputs": [],
   "source": [
    "import requests\n",
    "from configs import configs"
   ]
  },
  {
   "cell_type": "markdown",
   "id": "eb9ab66f-89b7-4d00-8d19-5ade718ef04f",
   "metadata": {
    "tags": []
   },
   "source": [
    "# PROCESS"
   ]
  },
  {
   "cell_type": "code",
   "execution_count": 2,
   "id": "e99230e5-c9a8-4adb-b7c9-be4f9aba9bad",
   "metadata": {},
   "outputs": [
    {
     "name": "stdout",
     "output_type": "stream",
     "text": [
      "Erro na requisição para http://api.nexusitconsulting.com.br:3000/api/v1/ixc/filial: HTTPConnectionPool(host='api.nexusitconsulting.com.br', port=3000): Max retries exceeded with url: /api/v1/ixc/filial (Caused by NewConnectionError('<urllib3.connection.HTTPConnection object at 0x772fae50a620>: Failed to establish a new connection: [Errno 111] Connection refused'))\n",
      "Erro na requisição para http://api.nexusitconsulting.com.br:3000/api/v1/ixc/colaboradores: HTTPConnectionPool(host='api.nexusitconsulting.com.br', port=3000): Max retries exceeded with url: /api/v1/ixc/colaboradores (Caused by NewConnectionError('<urllib3.connection.HTTPConnection object at 0x772faee3bd30>: Failed to establish a new connection: [Errno 111] Connection refused'))\n",
      "Erro na requisição para http://api.nexusitconsulting.com.br:3000/api/v1/ixc/assunto: HTTPConnectionPool(host='api.nexusitconsulting.com.br', port=3000): Max retries exceeded with url: /api/v1/ixc/assunto (Caused by NewConnectionError('<urllib3.connection.HTTPConnection object at 0x772fad110bb0>: Failed to establish a new connection: [Errno 111] Connection refused'))\n",
      "Erro na requisição para http://api.nexusitconsulting.com.br:3000/api/v1/ixc/setor: HTTPConnectionPool(host='api.nexusitconsulting.com.br', port=3000): Max retries exceeded with url: /api/v1/ixc/setor (Caused by NewConnectionError('<urllib3.connection.HTTPConnection object at 0x772faee38ca0>: Failed to establish a new connection: [Errno 111] Connection refused'))\n",
      "Erro na requisição para http://api.nexusitconsulting.com.br:3000/api/v1/ixc/usuarios: HTTPConnectionPool(host='api.nexusitconsulting.com.br', port=3000): Max retries exceeded with url: /api/v1/ixc/usuarios (Caused by NewConnectionError('<urllib3.connection.HTTPConnection object at 0x772fae50b250>: Failed to establish a new connection: [Errno 111] Connection refused'))\n",
      "Erro na requisição para http://api.nexusitconsulting.com.br:3000/api/v1/ixc/ordem-servico/aberto: HTTPConnectionPool(host='api.nexusitconsulting.com.br', port=3000): Max retries exceeded with url: /api/v1/ixc/ordem-servico/aberto (Caused by NewConnectionError('<urllib3.connection.HTTPConnection object at 0x772fad110760>: Failed to establish a new connection: [Errno 111] Connection refused'))\n",
      "Respostas das APIs: {'1': None, '2': None, '3': None, '4': None, '5': None, '6': None}\n"
     ]
    }
   ],
   "source": [
    "def fetch_selected_apis(table_indexes):\n",
    "    responses = {}\n",
    "\n",
    "    # Filtra as tabelas com base nos índices fornecidos na lista table_indexes\n",
    "    tables_to_process = list(configs.tables_landing.items())\n",
    "    \n",
    "    for i in table_indexes:\n",
    "        if i < len(tables_to_process):  # Verifica se o índice está dentro do limite\n",
    "            key, url = tables_to_process[i]\n",
    "            try:\n",
    "                response = requests.get(url)\n",
    "                if response.status_code == 200:\n",
    "                    responses[key] = response.json()  # Armazena a resposta JSON no dicionário\n",
    "                else:\n",
    "                    print(f\"Erro: Código de status {response.status_code} para a URL {url}\")\n",
    "                    responses[key] = None  # Armazena None para indicar que houve erro\n",
    "            except requests.exceptions.RequestException as e:\n",
    "                print(f\"Erro na requisição para {url}: {e}\")\n",
    "                responses[key] = None\n",
    "        else:\n",
    "            print(f\"Índice {i} fora do alcance das tabelas.\")\n",
    "\n",
    "    return responses\n",
    "\n",
    "# Exemplo de uso\n",
    "table_indexes = [0, 1, 2, 3, 4, 5]  # Passar os índices das tabelas que você deseja processar\n",
    "api_responses = fetch_selected_apis(table_indexes)\n",
    "print(\"Respostas das APIs:\", api_responses)"
   ]
  }
 ],
 "metadata": {
  "kernelspec": {
   "display_name": "Python 3 (ipykernel)",
   "language": "python",
   "name": "python3"
  },
  "language_info": {
   "codemirror_mode": {
    "name": "ipython",
    "version": 3
   },
   "file_extension": ".py",
   "mimetype": "text/x-python",
   "name": "python",
   "nbconvert_exporter": "python",
   "pygments_lexer": "ipython3",
   "version": "3.10.8"
  }
 },
 "nbformat": 4,
 "nbformat_minor": 5
}
