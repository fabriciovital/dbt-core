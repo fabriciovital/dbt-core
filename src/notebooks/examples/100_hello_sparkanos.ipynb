{
 "cells": [
  {
   "cell_type": "markdown",
   "id": "332b85f5-40d4-438b-bedf-c2be2fcc8b54",
   "metadata": {},
   "source": [
    "## Install libs for format text"
   ]
  },
  {
   "cell_type": "code",
   "execution_count": 1,
   "id": "e9f80752-3f8c-418a-b135-a134c58ed2df",
   "metadata": {},
   "outputs": [
    {
     "name": "stdout",
     "output_type": "stream",
     "text": [
      "Requirement already satisfied: pyfiglet in /opt/conda/lib/python3.10/site-packages (1.0.2)\n",
      "Note: you may need to restart the kernel to use updated packages.\n"
     ]
    }
   ],
   "source": [
    "pip install pyfiglet"
   ]
  },
  {
   "cell_type": "markdown",
   "id": "c199545b-1d24-49f6-85f6-f55468b91fe6",
   "metadata": {},
   "source": [
    "## Import libs"
   ]
  },
  {
   "cell_type": "code",
   "execution_count": 2,
   "id": "19e2f0a7-fc4f-48f9-a7fb-947e8073da78",
   "metadata": {},
   "outputs": [],
   "source": [
    "import time \n",
    "from pyfiglet import Figlet"
   ]
  },
  {
   "cell_type": "code",
   "execution_count": 3,
   "id": "80439fe5-0e8f-4e29-83fe-9eafce0302a2",
   "metadata": {},
   "outputs": [
    {
     "name": "stdout",
     "output_type": "stream",
     "text": [
      " _   _      _ _         ____                   _                         _ \n",
      "| | | | ___| | | ___   / ___| _ __   __ _ _ __| | ____ _ _ __   ___  ___| |\n",
      "| |_| |/ _ \\ | |/ _ \\  \\___ \\| '_ \\ / _` | '__| |/ / _` | '_ \\ / _ \\/ __| |\n",
      "|  _  |  __/ | | (_) |  ___) | |_) | (_| | |  |   < (_| | | | | (_) \\__ \\_|\n",
      "|_| |_|\\___|_|_|\\___/  |____/| .__/ \\__,_|_|  |_|\\_\\__,_|_| |_|\\___/|___(_)\n",
      "                             |_|                                           \n",
      "\n"
     ]
    }
   ],
   "source": [
    "f = Figlet(font='standard')\n",
    "print(f.renderText('Hello Sparkanos!'))\n",
    "time.sleep(5)"
   ]
  },
  {
   "cell_type": "code",
   "execution_count": 4,
   "id": "ffaa8215-eb8b-47a5-a216-9437c21060b2",
   "metadata": {},
   "outputs": [
    {
     "name": "stdout",
     "output_type": "stream",
     "text": [
      " ____             _ _ _ _ _ \n",
      "|  _ \\ __ _ _   _| | | | | |\n",
      "| |_) / _` | | | | | | | | |\n",
      "|  _ < (_| | |_| | | | | |_|\n",
      "|_| \\_\\__,_|\\__,_|_|_|_|_(_)\n",
      "                            \n",
      "\n"
     ]
    }
   ],
   "source": [
    "f = Figlet(font='standard')\n",
    "print(f.renderText('Raullll!'))\n",
    "time.sleep(5)"
   ]
  },
  {
   "cell_type": "code",
   "execution_count": 5,
   "id": "315758b2-caf7-4dda-bfce-c03ed6642fc2",
   "metadata": {},
   "outputs": [
    {
     "name": "stdout",
     "output_type": "stream",
     "text": [
      " ____             _ _ _ _ _ \n",
      "|  _ \\ __ _ _   _| | | | | |\n",
      "| |_) / _` | | | | | | | | |\n",
      "|  _ < (_| | |_| | | | | |_|\n",
      "|_| \\_\\__,_|\\__,_|_|_|_|_(_)\n",
      "                            \n",
      "\n"
     ]
    }
   ],
   "source": [
    "f = Figlet(font='standard')\n",
    "print(f.renderText('Raullll!'))\n",
    "time.sleep(5)"
   ]
  }
 ],
 "metadata": {
  "kernelspec": {
   "display_name": "Python 3 (ipykernel)",
   "language": "python",
   "name": "python3"
  },
  "language_info": {
   "codemirror_mode": {
    "name": "ipython",
    "version": 3
   },
   "file_extension": ".py",
   "mimetype": "text/x-python",
   "name": "python",
   "nbconvert_exporter": "python",
   "pygments_lexer": "ipython3",
   "version": "3.10.8"
  }
 },
 "nbformat": 4,
 "nbformat_minor": 5
}
