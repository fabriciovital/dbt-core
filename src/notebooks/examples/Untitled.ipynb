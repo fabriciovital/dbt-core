{
 "cells": [
  {
   "cell_type": "code",
   "execution_count": 12,
   "id": "c3eedae4-5a08-4176-94e7-2622d00add00",
   "metadata": {},
   "outputs": [
    {
     "name": "stdout",
     "output_type": "stream",
     "text": [
      "170.79.87.9 não está acessível\n"
     ]
    }
   ],
   "source": [
    "import os\n",
    "\n",
    "hostname = \"170.79.87.9\"  # Endereço IP que você deseja pingar\n",
    "response = os.system(f\"ping -c 4 {hostname}\")\n",
    "\n",
    "if response == 0:\n",
    "    print(f\"{hostname} está acessível\")\n",
    "else:\n",
    "    print(f\"{hostname} não está acessível\")\n"
   ]
  },
  {
   "cell_type": "code",
   "execution_count": null,
   "id": "0b3dfecc-36d4-491b-a9b1-a0d67f61b76b",
   "metadata": {},
   "outputs": [],
   "source": []
  }
 ],
 "metadata": {
  "kernelspec": {
   "display_name": "Python 3 (ipykernel)",
   "language": "python",
   "name": "python3"
  },
  "language_info": {
   "codemirror_mode": {
    "name": "ipython",
    "version": 3
   },
   "file_extension": ".py",
   "mimetype": "text/x-python",
   "name": "python",
   "nbconvert_exporter": "python",
   "pygments_lexer": "ipython3",
   "version": "3.10.8"
  }
 },
 "nbformat": 4,
 "nbformat_minor": 5
}
