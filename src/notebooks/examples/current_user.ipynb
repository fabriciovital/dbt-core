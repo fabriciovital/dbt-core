{
 "cells": [
  {
   "cell_type": "code",
   "execution_count": 4,
   "id": "0b3dfecc-36d4-491b-a9b1-a0d67f61b76b",
   "metadata": {},
   "outputs": [
    {
     "name": "stdout",
     "output_type": "stream",
     "text": [
      "Usuário atual: user\n",
      "ID do usuário: 1000\n",
      "Diretório home: /home/user\n"
     ]
    }
   ],
   "source": [
    "import os\n",
    "import pwd\n",
    "\n",
    "def get_current_user_info():\n",
    "    # Tentar obter o nome do usuário atual usando variáveis de ambiente\n",
    "    current_user = os.environ.get('USER') or os.environ.get('LOGNAME') or os.getlogin()\n",
    "    \n",
    "    # Obter informações adicionais do usuário\n",
    "    try:\n",
    "        user_info = pwd.getpwnam(current_user)\n",
    "        user_id = user_info.pw_uid\n",
    "        home_directory = user_info.pw_dir\n",
    "    except KeyError:\n",
    "        user_id = None\n",
    "        home_directory = None\n",
    "        print(f\"Erro: Não foi possível encontrar informações para o usuário: {current_user}\")\n",
    "    \n",
    "    return current_user, user_id, home_directory\n",
    "\n",
    "if __name__ == \"__main__\":\n",
    "    user, user_id, home_dir = get_current_user_info()\n",
    "    print(f\"Usuário atual: {user}\")\n",
    "    print(f\"ID do usuário: {user_id}\")\n",
    "    print(f\"Diretório home: {home_dir}\")"
   ]
  }
 ],
 "metadata": {
  "kernelspec": {
   "display_name": "Python 3 (ipykernel)",
   "language": "python",
   "name": "python3"
  },
  "language_info": {
   "codemirror_mode": {
    "name": "ipython",
    "version": 3
   },
   "file_extension": ".py",
   "mimetype": "text/x-python",
   "name": "python",
   "nbconvert_exporter": "python",
   "pygments_lexer": "ipython3",
   "version": "3.10.8"
  }
 },
 "nbformat": 4,
 "nbformat_minor": 5
}
