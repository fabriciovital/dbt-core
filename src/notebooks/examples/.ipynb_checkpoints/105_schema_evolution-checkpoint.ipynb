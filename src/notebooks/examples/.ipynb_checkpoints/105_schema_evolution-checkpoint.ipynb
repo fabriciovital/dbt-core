{
 "cells": [
  {
   "cell_type": "markdown",
   "id": "3f5c53ad-b1a6-4eae-916d-214318bdebdc",
   "metadata": {},
   "source": [
    "# Schema Evolution"
   ]
  },
  {
   "cell_type": "code",
   "execution_count": 1,
   "id": "67362979-98c4-408d-a664-e0912ac7fbc2",
   "metadata": {},
   "outputs": [],
   "source": [
    "from pyspark import SparkContext, SparkConf\n",
    "from pyspark.sql import SparkSession\n",
    "from pyspark.sql.functions import *\n",
    "from pyspark.sql.types import *\n",
    "from delta.tables import DeltaTable\n",
    "\n",
    "conf = SparkConf()\n",
    "\n",
    "conf.setAppName(\"Sample Schema Evolution\")\n",
    "conf.set(\"spark.hadoop.fs.s3a.endpoint\", \"http://172.21.121.140:9000\")\n",
    "conf.set(\"spark.hadoop.fs.s3a.access.key\", \"chapolin\")\n",
    "conf.set(\"spark.hadoop.fs.s3a.secret.key\", \"mudar@123\")\n",
    "conf.set(\"spark.hadoop.fs.s3a.path.style.access\", True)\n",
    "conf.set(\"spark.hadoop.fs.s3a.impl\", \"org.apache.hadoop.fs.s3a.S3AFileSystem\")\n",
    "conf.set('spark.hadoop.fs.s3a.aws.credentials.provider', 'org.apache.hadoop.fs.s3a.SimpleAWSCredentialsProvider')\n",
    "conf.set(\"spark.sql.extensions\", \"io.delta.sql.DeltaSparkSessionExtension\")\n",
    "conf.set(\"spark.sql.catalog.spark_catalog\", \"org.apache.spark.sql.delta.catalog.DeltaCatalog\") \n",
    "conf.set(\"hive.metastore.uris\", \"thrift://metastore:9083\")\n",
    "\n",
    "spark = SparkSession.builder.config(conf=conf).enableHiveSupport().getOrCreate()"
   ]
  },
  {
   "cell_type": "code",
   "execution_count": 2,
   "id": "99dab571-2fc5-4d7f-a727-a7f50282a8ad",
   "metadata": {},
   "outputs": [
    {
     "name": "stdout",
     "output_type": "stream",
     "text": [
      "+--------+--------+------+------+\n",
      "|firsname|lastname|gender|salary|\n",
      "+--------+--------+------+------+\n",
      "|   James|   Smith|     M|  3000|\n",
      "| Michael|    Rose|     M|  6000|\n",
      "|  Robert|Willians|     M|  5500|\n",
      "|   Maria|    Anne|     F|  7000|\n",
      "+--------+--------+------+------+\n",
      "\n"
     ]
    }
   ],
   "source": [
    "data2 = [(\"James\", \"Smith\", \"M\", 3000),\n",
    "         (\"Michael\", \"Rose\", \"M\", 6000),\n",
    "         (\"Robert\", \"Willians\", \"M\", 5500),\n",
    "         (\"Maria\", \"Anne\", \"F\", 7000)\n",
    "        ]\n",
    "\n",
    "schema = StructType([\n",
    "    StructField(\"firsname\", StringType(), True),\n",
    "    StructField(\"lastname\", StringType(), True),\n",
    "    StructField(\"gender\", StringType(), True),\n",
    "    StructField(\"salary\", StringType(), True)\n",
    "])\n",
    "\n",
    "df = spark.createDataFrame(data=data2, schema=schema)\n",
    "\n",
    "df.show()"
   ]
  },
  {
   "cell_type": "code",
   "execution_count": 4,
   "id": "173229ea-a0b9-4921-a12b-7dc75313d68a",
   "metadata": {},
   "outputs": [],
   "source": [
    "df.write.format(\"delta\").mode(\"append\").save('s3a://bronze/tb_schema_evolution')"
   ]
  },
  {
   "cell_type": "code",
   "execution_count": 6,
   "id": "ceee59ed-d1e5-4ebd-870d-59ad95406f67",
   "metadata": {},
   "outputs": [
    {
     "name": "stdout",
     "output_type": "stream",
     "text": [
      "+--------+--------+------+------+\n",
      "|firsname|lastname|gender|salary|\n",
      "+--------+--------+------+------+\n",
      "|  Robert|Willians|     M|  5500|\n",
      "| Michael|    Rose|     M|  6000|\n",
      "|   James|   Smith|     M|  3000|\n",
      "|   Maria|    Anne|     F|  7000|\n",
      "+--------+--------+------+------+\n",
      "\n"
     ]
    }
   ],
   "source": [
    "df = spark.read.format(\"delta\").load('s3a://bronze/tb_schema_evolution').show()"
   ]
  },
  {
   "cell_type": "markdown",
   "id": "13585f99-9a0f-47c7-9ff9-adbb77bbbf0b",
   "metadata": {},
   "source": [
    "## Add new data with new schema"
   ]
  },
  {
   "cell_type": "code",
   "execution_count": 3,
   "id": "c9305592-4ef9-4a85-bafb-aa8299416e9a",
   "metadata": {},
   "outputs": [
    {
     "name": "stdout",
     "output_type": "stream",
     "text": [
      "+--------+--------+------+------+---+\n",
      "|firsname|lastname|gender|salary|age|\n",
      "+--------+--------+------+------+---+\n",
      "| Wallace| Camargo|     M|  3000| 35|\n",
      "+--------+--------+------+------+---+\n",
      "\n"
     ]
    }
   ],
   "source": [
    "new_data = [(\"Wallace\", \"Camargo\", \"M\", 3000, 35),\n",
    "        ]\n",
    "\n",
    "new_schema = StructType([\n",
    "    StructField(\"firsname\", StringType(), True),\n",
    "    StructField(\"lastname\", StringType(), True),\n",
    "    StructField(\"gender\", StringType(), True),\n",
    "    StructField(\"salary\", StringType(), True),\n",
    "    StructField(\"age\", IntegerType(), True),\n",
    "    \n",
    "])\n",
    "\n",
    "df_new = spark.createDataFrame(data=new_data, schema=new_schema)\n",
    "\n",
    "df_new.show()"
   ]
  },
  {
   "cell_type": "markdown",
   "id": "4b55adc0-ed63-4a84-8aca-f536ecd09cce",
   "metadata": {},
   "source": [
    "## Write data with schema evolution "
   ]
  },
  {
   "cell_type": "code",
   "execution_count": 8,
   "id": "56589f1a-13fa-4b69-8c92-530bd75d05b4",
   "metadata": {},
   "outputs": [],
   "source": [
    "df_new.write.format(\"delta\").mode(\"append\").option(\"mergeSchema\", \"true\").save('s3a://bronze/tb_schema_evolution')"
   ]
  },
  {
   "cell_type": "code",
   "execution_count": 9,
   "id": "52fed1ec-1707-4f88-9d49-c5f3bef275e6",
   "metadata": {},
   "outputs": [
    {
     "name": "stdout",
     "output_type": "stream",
     "text": [
      "+--------+--------+------+------+----+\n",
      "|firsname|lastname|gender|salary| age|\n",
      "+--------+--------+------+------+----+\n",
      "| Wallace| Camargo|     M|  3000|  35|\n",
      "|  Robert|Willians|     M|  5500|null|\n",
      "| Michael|    Rose|     M|  6000|null|\n",
      "|   James|   Smith|     M|  3000|null|\n",
      "|   Maria|    Anne|     F|  7000|null|\n",
      "+--------+--------+------+------+----+\n",
      "\n"
     ]
    }
   ],
   "source": [
    "df = spark.read.format(\"delta\").load('s3a://bronze/tb_schema_evolution').show()"
   ]
  }
 ],
 "metadata": {
  "kernelspec": {
   "display_name": "Python 3 (ipykernel)",
   "language": "python",
   "name": "python3"
  },
  "language_info": {
   "codemirror_mode": {
    "name": "ipython",
    "version": 3
   },
   "file_extension": ".py",
   "mimetype": "text/x-python",
   "name": "python",
   "nbconvert_exporter": "python",
   "pygments_lexer": "ipython3",
   "version": "3.10.8"
  }
 },
 "nbformat": 4,
 "nbformat_minor": 5
}
