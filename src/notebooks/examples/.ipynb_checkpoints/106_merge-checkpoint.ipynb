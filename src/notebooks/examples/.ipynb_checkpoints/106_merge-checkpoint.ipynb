{
 "cells": [
  {
   "cell_type": "markdown",
   "id": "eea378d9-5b8f-4e77-9c6a-228d2be1d479",
   "metadata": {},
   "source": [
    "# Merge"
   ]
  },
  {
   "cell_type": "code",
   "execution_count": 2,
   "id": "82f33d33-fc36-4792-bb96-6bfc270a6a08",
   "metadata": {},
   "outputs": [],
   "source": [
    "from pyspark import SparkContext, SparkConf\n",
    "from pyspark.sql import SparkSession\n",
    "from pyspark.sql.functions import *\n",
    "from pyspark.sql.types import *\n",
    "from delta.tables import DeltaTable\n",
    "\n",
    "\n",
    "conf = SparkConf()\n",
    "\n",
    "conf.setAppName(\"Sample Merge\")\n",
    "conf.set(\"spark.hadoop.fs.s3a.endpoint\", \"http://172.21.121.140:9000\")\n",
    "conf.set(\"spark.hadoop.fs.s3a.access.key\", \"chapolin\")\n",
    "conf.set(\"spark.hadoop.fs.s3a.secret.key\", \"mudar@123\")\n",
    "conf.set(\"spark.hadoop.fs.s3a.path.style.access\", True)\n",
    "conf.set(\"spark.hadoop.fs.s3a.impl\", \"org.apache.hadoop.fs.s3a.S3AFileSystem\")\n",
    "conf.set('spark.hadoop.fs.s3a.aws.credentials.provider', 'org.apache.hadoop.fs.s3a.SimpleAWSCredentialsProvider')\n",
    "conf.set(\"spark.sql.extensions\", \"io.delta.sql.DeltaSparkSessionExtension\")\n",
    "conf.set(\"spark.sql.catalog.spark_catalog\", \"org.apache.spark.sql.delta.catalog.DeltaCatalog\") \n",
    "conf.set(\"hive.metastore.uris\", \"thrift://metastore:9083\")\n",
    "\n",
    "spark = SparkSession.builder.config(conf=conf).enableHiveSupport().getOrCreate()"
   ]
  },
  {
   "cell_type": "markdown",
   "id": "23767e30-c7e4-4808-b533-b49b4bc22e92",
   "metadata": {},
   "source": [
    "## Create dataframes"
   ]
  },
  {
   "cell_type": "markdown",
   "id": "f2c24a70-7b46-45e0-96ad-d66263414e9f",
   "metadata": {},
   "source": [
    "### Data for insert"
   ]
  },
  {
   "cell_type": "code",
   "execution_count": 3,
   "id": "7ced2b66-1f24-4b4b-8fdb-8b8c0f81358e",
   "metadata": {},
   "outputs": [],
   "source": [
    "data_insert = [\n",
    "    (\"Product A\", 100),\n",
    "    (\"Product B\", 200),\n",
    "    (\"Product C\", 700)\n",
    "]"
   ]
  },
  {
   "cell_type": "markdown",
   "id": "4f9bec06-a4a5-4455-9b98-1c09fdacabb2",
   "metadata": {},
   "source": [
    "### Data for update"
   ]
  },
  {
   "cell_type": "code",
   "execution_count": 4,
   "id": "1a8e07a7-1756-42ed-80d9-62cd47d4153a",
   "metadata": {},
   "outputs": [],
   "source": [
    "data_update = [\n",
    "    (\"Product A\", 170),\n",
    "    (\"Product D\", 777)\n",
    "]"
   ]
  },
  {
   "cell_type": "markdown",
   "id": "746202e5-f297-4f3d-8271-be7e8321bada",
   "metadata": {},
   "source": [
    "### Add schema"
   ]
  },
  {
   "cell_type": "code",
   "execution_count": 6,
   "id": "36bc061f-252a-48a8-8dff-20dedd8c8c3f",
   "metadata": {},
   "outputs": [],
   "source": [
    "schema = StructType([\n",
    "    StructField(\"product_name\", StringType(), True),\n",
    "    StructField(\"price\", IntegerType(), True)\n",
    "])"
   ]
  },
  {
   "cell_type": "code",
   "execution_count": 10,
   "id": "2b484ee0-7147-4f64-955b-9bf159d89285",
   "metadata": {},
   "outputs": [],
   "source": [
    "df_insert = spark.createDataFrame(data_insert, schema)\n",
    "df_update = spark.createDataFrame(data_update, schema)"
   ]
  },
  {
   "cell_type": "markdown",
   "id": "325442ec-a5ca-4b85-8459-b8dff7d6887e",
   "metadata": {},
   "source": [
    "### DF that will insert"
   ]
  },
  {
   "cell_type": "code",
   "execution_count": 11,
   "id": "933af7a9-3534-4f40-b1e2-a3d2acb25e16",
   "metadata": {},
   "outputs": [
    {
     "name": "stdout",
     "output_type": "stream",
     "text": [
      "+------------+-----+\n",
      "|product_name|price|\n",
      "+------------+-----+\n",
      "|   Product A|  100|\n",
      "|   Product B|  200|\n",
      "|   Product C|  700|\n",
      "+------------+-----+\n",
      "\n"
     ]
    }
   ],
   "source": [
    "df_insert.show()"
   ]
  },
  {
   "cell_type": "code",
   "execution_count": null,
   "id": "3096772c-9319-4267-a0d6-1bfc42a227cf",
   "metadata": {},
   "outputs": [],
   "source": [
    "DF that will update"
   ]
  },
  {
   "cell_type": "code",
   "execution_count": 12,
   "id": "976d469b-177e-4193-b7e7-622f83e62fb2",
   "metadata": {},
   "outputs": [
    {
     "name": "stdout",
     "output_type": "stream",
     "text": [
      "+------------+-----+\n",
      "|product_name|price|\n",
      "+------------+-----+\n",
      "|   Product A|  170|\n",
      "|   Product D|  777|\n",
      "+------------+-----+\n",
      "\n"
     ]
    }
   ],
   "source": [
    "df_update.show()"
   ]
  },
  {
   "cell_type": "code",
   "execution_count": 13,
   "id": "2948b7fc-c453-4268-9a9f-19359b58d82f",
   "metadata": {},
   "outputs": [],
   "source": [
    "df_insert.write.format(\"delta\").mode(\"append\").save('s3a://bronze/tb_merge')"
   ]
  },
  {
   "cell_type": "code",
   "execution_count": 15,
   "id": "5ae90cc7-5e44-4f7c-907b-f6793ae33ecb",
   "metadata": {},
   "outputs": [
    {
     "name": "stdout",
     "output_type": "stream",
     "text": [
      "+------------+-----+\n",
      "|product_name|price|\n",
      "+------------+-----+\n",
      "|   Product C|  700|\n",
      "|   Product A|  100|\n",
      "|   Product B|  200|\n",
      "+------------+-----+\n",
      "\n"
     ]
    }
   ],
   "source": [
    "df = spark.read.format(\"delta\").load('s3a://bronze/tb_merge').show()"
   ]
  },
  {
   "cell_type": "code",
   "execution_count": 16,
   "id": "d0d8a971-0235-42ac-96ed-84d8e4069650",
   "metadata": {},
   "outputs": [],
   "source": [
    "table_path = 's3a://bronze/tb_merge'\n",
    "delta_table = DeltaTable.forPath(spark, table_path)"
   ]
  },
  {
   "cell_type": "markdown",
   "id": "c9249ef8-5369-4d0a-a5c3-22f1e87479ac",
   "metadata": {},
   "source": [
    "## Apply merge"
   ]
  },
  {
   "cell_type": "code",
   "execution_count": 18,
   "id": "3420d5fc-90d1-48a9-ac9a-d3b628fb3060",
   "metadata": {},
   "outputs": [],
   "source": [
    "(delta_table.alias(\"target\")\n",
    "     .merge(\n",
    "         df_update.alias(\"source\"),\n",
    "         \"target.product_name = source.product_name\"\n",
    "     )\n",
    "      .whenMatchedUpdate(set={\"price\": \"source.price\"})\n",
    "      .whenNotMatchedInsert(values={\"product_name\": \"source.product_name\", \"price\": \"source.price\"})\n",
    "      .execute()) "
   ]
  },
  {
   "cell_type": "code",
   "execution_count": 19,
   "id": "1fc0d57c-bc3c-476b-a9d4-1e135165dcf5",
   "metadata": {},
   "outputs": [
    {
     "name": "stdout",
     "output_type": "stream",
     "text": [
      "+------------+-----+\n",
      "|product_name|price|\n",
      "+------------+-----+\n",
      "|   Product C|  700|\n",
      "|   Product B|  200|\n",
      "|   Product A|  170|\n",
      "|   Product D|  777|\n",
      "+------------+-----+\n",
      "\n"
     ]
    }
   ],
   "source": [
    "df = spark.read.format(\"delta\").load('s3a://bronze/tb_merge').show()"
   ]
  }
 ],
 "metadata": {
  "kernelspec": {
   "display_name": "Python 3 (ipykernel)",
   "language": "python",
   "name": "python3"
  },
  "language_info": {
   "codemirror_mode": {
    "name": "ipython",
    "version": 3
   },
   "file_extension": ".py",
   "mimetype": "text/x-python",
   "name": "python",
   "nbconvert_exporter": "python",
   "pygments_lexer": "ipython3",
   "version": "3.10.8"
  }
 },
 "nbformat": 4,
 "nbformat_minor": 5
}
