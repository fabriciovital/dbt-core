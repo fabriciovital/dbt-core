{
 "cells": [
  {
   "cell_type": "markdown",
   "id": "2a136ffe-9200-4373-91ae-5d39ef57595f",
   "metadata": {},
   "source": [
    "## Sample write Delta table on Minio"
   ]
  },
  {
   "cell_type": "code",
   "execution_count": 1,
   "id": "9f4bed1c-6430-49f4-9469-043bffb22179",
   "metadata": {},
   "outputs": [],
   "source": [
    "from pyspark import SparkContext, SparkConf\n",
    "from pyspark.sql import SparkSession\n",
    "from pyspark.sql.functions import *\n",
    "from pyspark.sql.types import *\n",
    "from dotenv import load_dotenv\n",
    "import os\n"
   ]
  },
  {
   "cell_type": "code",
   "execution_count": 2,
   "id": "32532dfe-4a85-43dc-ad64-889608dff690",
   "metadata": {},
   "outputs": [],
   "source": [
    "load_dotenv()\n",
    "\n",
    "HOST_ADDRESS = os.getenv(\"HOST_ADDRESS\")\n",
    "MINIO_ACCESS_KEY = os.getenv(\"MINIO_ACCESS_KEY\")\n",
    "MINIO_SECRET_KEY = os.getenv(\"MINIO_SECRET_KEY\")\n",
    "\n",
    "conf = SparkConf()\n",
    "\n",
    "conf.setAppName(\"Sample write Delta table\")\n",
    "conf.set(\"spark.hadoop.fs.s3a.endpoint\", f\"http://{HOST_ADDRESS}:9000\")\n",
    "conf.set(\"spark.hadoop.fs.s3a.access.key\", MINIO_ACCESS_KEY)\n",
    "conf.set(\"spark.hadoop.fs.s3a.secret.key\", MINIO_SECRET_KEY)\n",
    "conf.set(\"spark.hadoop.fs.s3a.path.style.access\", True)\n",
    "conf.set(\"spark.hadoop.fs.s3a.impl\", \"org.apache.hadoop.fs.s3a.S3AFileSystem\")\n",
    "conf.set('spark.hadoop.fs.s3a.aws.credentials.provider', 'org.apache.hadoop.fs.s3a.SimpleAWSCredentialsProvider')\n",
    "conf.set(\"spark.sql.extensions\", \"io.delta.sql.DeltaSparkSessionExtension\")\n",
    "conf.set(\"spark.sql.catalog.spark_catalog\", \"org.apache.spark.sql.delta.catalog.DeltaCatalog\") \n",
    "conf.set(\"hive.metastore.uris\", \"thrift://metastore:9083\")\n",
    "\n",
    "spark = SparkSession.builder.config(conf=conf).enableHiveSupport().getOrCreate()"
   ]
  },
  {
   "cell_type": "markdown",
   "id": "931d01e1-8f11-413d-936b-55eb7d7ebd0f",
   "metadata": {},
   "source": [
    "## Add data for dataframe"
   ]
  },
  {
   "cell_type": "code",
   "execution_count": 3,
   "id": "db7db9de-41a9-4638-a345-4c0591ac7463",
   "metadata": {},
   "outputs": [],
   "source": [
    "data2 = [(\"James\", \"Smith\", \"M\", 3000),\n",
    "         (\"Michael\", \"Rose\", \"M\", 6000),\n",
    "         (\"Robert\", \"Willians\", \"M\", 5500),\n",
    "         (\"Maria\", \"Anne\", \"F\", 7000)\n",
    "        ]"
   ]
  },
  {
   "cell_type": "markdown",
   "id": "b3cc20be-a311-4652-8629-1bbdf6ed30b9",
   "metadata": {},
   "source": [
    "## Add schema for dataframe"
   ]
  },
  {
   "cell_type": "code",
   "execution_count": 4,
   "id": "481b35cf-2073-4551-8d9b-1b529f8a46ff",
   "metadata": {},
   "outputs": [],
   "source": [
    "schema = StructType([\n",
    "    StructField(\"firtsname\", StringType(), True),\n",
    "    StructField(\"lastname\", StringType(), True),\n",
    "    StructField(\"gender\", StringType(), True),\n",
    "    StructField(\"salary\", StringType(), True)\n",
    "])"
   ]
  },
  {
   "cell_type": "code",
   "execution_count": 5,
   "id": "3e2e30fb-0780-486c-b458-73832c1b2032",
   "metadata": {},
   "outputs": [],
   "source": [
    "df = spark.createDataFrame(data=data2, schema=schema)"
   ]
  },
  {
   "cell_type": "code",
   "execution_count": 6,
   "id": "ebfb976f-1293-4908-95bc-157fc9d76ff7",
   "metadata": {},
   "outputs": [
    {
     "name": "stdout",
     "output_type": "stream",
     "text": [
      "+---------+--------+------+------+\n",
      "|firtsname|lastname|gender|salary|\n",
      "+---------+--------+------+------+\n",
      "|    James|   Smith|     M|  3000|\n",
      "|  Michael|    Rose|     M|  6000|\n",
      "|   Robert|Willians|     M|  5500|\n",
      "|    Maria|    Anne|     F|  7000|\n",
      "+---------+--------+------+------+\n",
      "\n"
     ]
    }
   ],
   "source": [
    "df.show()"
   ]
  },
  {
   "cell_type": "markdown",
   "id": "1cd6f30d-6ad1-42de-bed4-c35a5efff864",
   "metadata": {},
   "source": [
    "## Send Delta to Minio"
   ]
  },
  {
   "cell_type": "code",
   "execution_count": 7,
   "id": "c205cd25-0235-4627-af93-3ddfe4d0ce18",
   "metadata": {},
   "outputs": [],
   "source": [
    "df.write.format(\"delta\").mode(\"append\").save('s3a://bronze/delta_employee')"
   ]
  }
 ],
 "metadata": {
  "kernelspec": {
   "display_name": "Python 3 (ipykernel)",
   "language": "python",
   "name": "python3"
  },
  "language_info": {
   "codemirror_mode": {
    "name": "ipython",
    "version": 3
   },
   "file_extension": ".py",
   "mimetype": "text/x-python",
   "name": "python",
   "nbconvert_exporter": "python",
   "pygments_lexer": "ipython3",
   "version": "3.10.8"
  }
 },
 "nbformat": 4,
 "nbformat_minor": 5
}
