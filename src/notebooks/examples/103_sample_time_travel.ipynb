{
 "cells": [
  {
   "cell_type": "markdown",
   "id": "e4aac0a5-c10e-4ee5-82f5-d23768cea361",
   "metadata": {},
   "source": [
    "## Sample Time Travel"
   ]
  },
  {
   "cell_type": "code",
   "execution_count": 1,
   "id": "9f4bed1c-6430-49f4-9469-043bffb22179",
   "metadata": {},
   "outputs": [],
   "source": [
    "from pyspark import SparkContext, SparkConf\n",
    "from pyspark.sql import SparkSession\n",
    "from pyspark.sql.functions import *\n",
    "from pyspark.sql.types import *\n",
    "\n",
    "conf = SparkConf()\n",
    "\n",
    "conf.setAppName(\"Sample Time Travel\")\n",
    "conf.set(\"spark.hadoop.fs.s3a.endpoint\", \"http://172.21.121.140:9000\")\n",
    "conf.set(\"spark.hadoop.fs.s3a.access.key\", \"chapolin\")\n",
    "conf.set(\"spark.hadoop.fs.s3a.secret.key\", \"mudar@123\")\n",
    "conf.set(\"spark.hadoop.fs.s3a.path.style.access\", True)\n",
    "conf.set(\"spark.hadoop.fs.s3a.impl\", \"org.apache.hadoop.fs.s3a.S3AFileSystem\")\n",
    "conf.set('spark.hadoop.fs.s3a.aws.credentials.provider', 'org.apache.hadoop.fs.s3a.SimpleAWSCredentialsProvider')\n",
    "conf.set(\"spark.sql.extensions\", \"io.delta.sql.DeltaSparkSessionExtension\")\n",
    "conf.set(\"spark.sql.catalog.spark_catalog\", \"org.apache.spark.sql.delta.catalog.DeltaCatalog\") \n",
    "conf.set(\"hive.metastore.uris\", \"thrift://metastore:9083\")\n",
    "\n",
    "spark = SparkSession.builder.config(conf=conf).enableHiveSupport().getOrCreate()"
   ]
  },
  {
   "cell_type": "markdown",
   "id": "931d01e1-8f11-413d-936b-55eb7d7ebd0f",
   "metadata": {},
   "source": [
    "## Add data for dataframe"
   ]
  },
  {
   "cell_type": "code",
   "execution_count": 2,
   "id": "db7db9de-41a9-4638-a345-4c0591ac7463",
   "metadata": {},
   "outputs": [],
   "source": [
    "data2 = [(\"James\", \"Smith\", \"M\", 3000),\n",
    "         (\"Michael\", \"Rose\", \"M\", 6000),\n",
    "         (\"Robert\", \"Willians\", \"M\", 5500),\n",
    "         (\"Maria\", \"Anne\", \"F\", 7000)\n",
    "        ]"
   ]
  },
  {
   "cell_type": "markdown",
   "id": "b3cc20be-a311-4652-8629-1bbdf6ed30b9",
   "metadata": {},
   "source": [
    "## Add schema for dataframe"
   ]
  },
  {
   "cell_type": "code",
   "execution_count": 3,
   "id": "481b35cf-2073-4551-8d9b-1b529f8a46ff",
   "metadata": {},
   "outputs": [],
   "source": [
    "schema = StructType([\n",
    "    StructField(\"firsname\", StringType(), True),\n",
    "    StructField(\"lastname\", StringType(), True),\n",
    "    StructField(\"gender\", StringType(), True),\n",
    "    StructField(\"salary\", StringType(), True)\n",
    "])"
   ]
  },
  {
   "cell_type": "code",
   "execution_count": 4,
   "id": "3e2e30fb-0780-486c-b458-73832c1b2032",
   "metadata": {},
   "outputs": [],
   "source": [
    "df = spark.createDataFrame(data=data2, schema=schema)"
   ]
  },
  {
   "cell_type": "code",
   "execution_count": 5,
   "id": "ebfb976f-1293-4908-95bc-157fc9d76ff7",
   "metadata": {},
   "outputs": [
    {
     "name": "stdout",
     "output_type": "stream",
     "text": [
      "+--------+--------+------+------+\n",
      "|firsname|lastname|gender|salary|\n",
      "+--------+--------+------+------+\n",
      "|   James|   Smith|     M|  3000|\n",
      "| Michael|    Rose|     M|  6000|\n",
      "|  Robert|Willians|     M|  5500|\n",
      "|   Maria|    Anne|     F|  7000|\n",
      "+--------+--------+------+------+\n",
      "\n"
     ]
    }
   ],
   "source": [
    "df.show()"
   ]
  },
  {
   "cell_type": "markdown",
   "id": "1cd6f30d-6ad1-42de-bed4-c35a5efff864",
   "metadata": {},
   "source": [
    "## Send Delta to Minio"
   ]
  },
  {
   "cell_type": "code",
   "execution_count": 14,
   "id": "c205cd25-0235-4627-af93-3ddfe4d0ce18",
   "metadata": {},
   "outputs": [],
   "source": [
    "df.write.format(\"delta\").mode(\"append\").save('s3a://bronze/tb_time_travel')"
   ]
  },
  {
   "cell_type": "markdown",
   "id": "da1f7558-f2d2-496e-8940-ff739d545617",
   "metadata": {},
   "source": [
    "## Analyze number version table"
   ]
  },
  {
   "cell_type": "code",
   "execution_count": 7,
   "id": "965c8a55-30ae-4729-ab72-5c597a6051e9",
   "metadata": {},
   "outputs": [],
   "source": [
    "from delta.tables import DeltaTable\n",
    "from pyspark.sql import SparkSession"
   ]
  },
  {
   "cell_type": "code",
   "execution_count": 8,
   "id": "19f50e62-3057-4429-aa81-dc028b55b478",
   "metadata": {},
   "outputs": [],
   "source": [
    "spark = SparkSession.builder \\\n",
    "    .appName(\"DeltaTableHistory\") \\\n",
    "    .getOrCreate()"
   ]
  },
  {
   "cell_type": "code",
   "execution_count": 23,
   "id": "d8eec081-66a3-47e2-981e-a4306148d04b",
   "metadata": {},
   "outputs": [],
   "source": [
    "table_path = 's3a://bronze/tb_time_travel'\n",
    "delta_table = DeltaTable.forPath(spark, table_path)\n",
    "history_df = delta_table.history()"
   ]
  },
  {
   "cell_type": "code",
   "execution_count": 24,
   "id": "d025ee2b-02f8-48da-a65a-7b5c31d7c7cc",
   "metadata": {},
   "outputs": [
    {
     "name": "stdout",
     "output_type": "stream",
     "text": [
      "+-------+-------------------+------+--------+---------+--------------------------------------+----+--------+---------+-----------+--------------+-------------+-----------------------------------------------------------+------------+-----------------------------------+\n",
      "|version|timestamp          |userId|userName|operation|operationParameters                   |job |notebook|clusterId|readVersion|isolationLevel|isBlindAppend|operationMetrics                                           |userMetadata|engineInfo                         |\n",
      "+-------+-------------------+------+--------+---------+--------------------------------------+----+--------+---------+-----------+--------------+-------------+-----------------------------------------------------------+------------+-----------------------------------+\n",
      "|2      |2024-08-15 21:25:56|null  |null    |WRITE    |{mode -> Overwrite, partitionBy -> []}|null|null    |null     |1          |Serializable  |false        |{numFiles -> 4, numOutputRows -> 4, numOutputBytes -> 4816}|null        |Apache-Spark/3.3.1 Delta-Lake/2.2.0|\n",
      "|1      |2024-08-15 21:21:53|null  |null    |WRITE    |{mode -> Append, partitionBy -> []}   |null|null    |null     |0          |Serializable  |true         |{numFiles -> 5, numOutputRows -> 4, numOutputBytes -> 5395}|null        |Apache-Spark/3.3.1 Delta-Lake/2.2.0|\n",
      "|0      |2024-08-15 21:16:49|null  |null    |WRITE    |{mode -> Append, partitionBy -> []}   |null|null    |null     |null       |Serializable  |true         |{numFiles -> 5, numOutputRows -> 4, numOutputBytes -> 5395}|null        |Apache-Spark/3.3.1 Delta-Lake/2.2.0|\n",
      "+-------+-------------------+------+--------+---------+--------------------------------------+----+--------+---------+-----------+--------------+-------------+-----------------------------------------------------------+------------+-----------------------------------+\n",
      "\n"
     ]
    }
   ],
   "source": [
    "history_df.show(truncate=False)"
   ]
  },
  {
   "cell_type": "markdown",
   "id": "0e38f6fb-1922-4653-95c8-a2c3eb468f35",
   "metadata": {},
   "source": [
    "## Read first version"
   ]
  },
  {
   "cell_type": "code",
   "execution_count": 17,
   "id": "80cb0887-fdf6-4a84-ab01-cf20657dc184",
   "metadata": {},
   "outputs": [
    {
     "name": "stdout",
     "output_type": "stream",
     "text": [
      "+--------+--------+------+------+\n",
      "|firsname|lastname|gender|salary|\n",
      "+--------+--------+------+------+\n",
      "|  Robert|Willians|     M|  5500|\n",
      "| Michael|    Rose|     M|  6000|\n",
      "|   James|   Smith|     M|  3000|\n",
      "|   Maria|    Anne|     F|  7000|\n",
      "+--------+--------+------+------+\n",
      "\n"
     ]
    }
   ],
   "source": [
    "spark.read.format(\"delta\").option(\"versionAsOf\", 0).load(table_path).show()"
   ]
  },
  {
   "cell_type": "markdown",
   "id": "c84dacf2-0aa3-4429-9457-d534c6481163",
   "metadata": {},
   "source": [
    "## Read second version"
   ]
  },
  {
   "cell_type": "code",
   "execution_count": 28,
   "id": "e5933c51-1641-41b6-8002-3324603b5c86",
   "metadata": {},
   "outputs": [
    {
     "name": "stdout",
     "output_type": "stream",
     "text": [
      "+--------+--------+------+------+\n",
      "|firsname|lastname|gender|salary|\n",
      "+--------+--------+------+------+\n",
      "|  Robert|Willians|     M|  5500|\n",
      "|  Robert|Willians|     M|  5500|\n",
      "| Michael|    Rose|     M|  6000|\n",
      "| Michael|    Rose|     M|  6000|\n",
      "|   James|   Smith|     M|  3000|\n",
      "|   James|   Smith|     M|  3000|\n",
      "|   Maria|    Anne|     F|  7000|\n",
      "|   Maria|    Anne|     F|  7000|\n",
      "+--------+--------+------+------+\n",
      "\n"
     ]
    }
   ],
   "source": [
    "spark.read.format(\"delta\").option(\"versionAsOf\", 1).load(table_path).show()"
   ]
  },
  {
   "cell_type": "markdown",
   "id": "81b23d0f-25f0-4908-bee6-ff4bac7dae7a",
   "metadata": {},
   "source": [
    "## Rollback to version 0"
   ]
  },
  {
   "cell_type": "code",
   "execution_count": 21,
   "id": "c2cd35bd-220b-44af-8035-8428942466f4",
   "metadata": {},
   "outputs": [],
   "source": [
    "df_version_0 = spark.read.format(\"delta\").option(\"versionAsOf\", 0).load(table_path)\n",
    "df_version_0.write.format(\"delta\").mode(\"overwrite\").save(table_path)"
   ]
  },
  {
   "cell_type": "markdown",
   "id": "6b81b4e9-0fd5-4531-80a8-e7e6dc727d4a",
   "metadata": {},
   "source": [
    "## Read table in actual version"
   ]
  },
  {
   "cell_type": "code",
   "execution_count": 22,
   "id": "42643e5e-0077-41da-bb1a-4733bb8e4f0e",
   "metadata": {},
   "outputs": [
    {
     "name": "stdout",
     "output_type": "stream",
     "text": [
      "+--------+--------+------+------+\n",
      "|firsname|lastname|gender|salary|\n",
      "+--------+--------+------+------+\n",
      "|  Robert|Willians|     M|  5500|\n",
      "| Michael|    Rose|     M|  6000|\n",
      "|   James|   Smith|     M|  3000|\n",
      "|   Maria|    Anne|     F|  7000|\n",
      "+--------+--------+------+------+\n",
      "\n"
     ]
    }
   ],
   "source": [
    "df = spark.read.format(\"delta\").load('s3a://bronze/tb_time_travel').show()"
   ]
  }
 ],
 "metadata": {
  "kernelspec": {
   "display_name": "Python 3 (ipykernel)",
   "language": "python",
   "name": "python3"
  },
  "language_info": {
   "codemirror_mode": {
    "name": "ipython",
    "version": 3
   },
   "file_extension": ".py",
   "mimetype": "text/x-python",
   "name": "python",
   "nbconvert_exporter": "python",
   "pygments_lexer": "ipython3",
   "version": "3.10.8"
  }
 },
 "nbformat": 4,
 "nbformat_minor": 5
}
