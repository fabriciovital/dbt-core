{
 "cells": [
  {
   "cell_type": "markdown",
   "id": "840f9d39-03ac-4b51-9995-a86fdc251d3c",
   "metadata": {},
   "source": [
    "# Spark SQL"
   ]
  },
  {
   "cell_type": "code",
   "execution_count": 1,
   "id": "c660daf2-56f5-4e4a-9fad-74949467857e",
   "metadata": {},
   "outputs": [],
   "source": [
    "from pyspark import SparkContext, SparkConf\n",
    "from pyspark.sql import SparkSession\n",
    "from pyspark.sql.functions import *\n",
    "from pyspark.sql.types import *\n",
    "\n",
    "conf = SparkConf()\n",
    "\n",
    "conf.setAppName(\"Sample Spark SQL\")\n",
    "conf.set(\"spark.hadoop.fs.s3a.endpoint\", \"http://172.21.121.140:9000\")\n",
    "conf.set(\"spark.hadoop.fs.s3a.access.key\", \"chapolin\")\n",
    "conf.set(\"spark.hadoop.fs.s3a.secret.key\", \"mudar@123\")\n",
    "conf.set(\"spark.hadoop.fs.s3a.path.style.access\", True)\n",
    "conf.set(\"spark.hadoop.fs.s3a.impl\", \"org.apache.hadoop.fs.s3a.S3AFileSystem\")\n",
    "conf.set('spark.hadoop.fs.s3a.aws.credentials.provider', 'org.apache.hadoop.fs.s3a.SimpleAWSCredentialsProvider')\n",
    "conf.set(\"spark.sql.extensions\", \"io.delta.sql.DeltaSparkSessionExtension\")\n",
    "conf.set(\"spark.sql.catalog.spark_catalog\", \"org.apache.spark.sql.delta.catalog.DeltaCatalog\") \n",
    "conf.set(\"hive.metastore.uris\", \"thrift://metastore:9083\")\n",
    "\n",
    "spark = SparkSession.builder.config(conf=conf).enableHiveSupport().getOrCreate()"
   ]
  },
  {
   "cell_type": "markdown",
   "id": "da419c5e-4fa2-4da3-8aa0-0945f925f505",
   "metadata": {},
   "source": [
    "## Add dataframe"
   ]
  },
  {
   "cell_type": "code",
   "execution_count": 4,
   "id": "6e2a0d88-7b92-4d1f-b4f6-1af0e98a87de",
   "metadata": {},
   "outputs": [
    {
     "name": "stdout",
     "output_type": "stream",
     "text": [
      "+---------+--------+------+------+\n",
      "|firtsname|lastname|gender|salary|\n",
      "+---------+--------+------+------+\n",
      "|    James|   Smith|     M|  3000|\n",
      "|  Michael|    Rose|     M|  6000|\n",
      "|   Robert|Willians|     M|  5500|\n",
      "|    Maria|    Anne|     F|  7000|\n",
      "+---------+--------+------+------+\n",
      "\n"
     ]
    }
   ],
   "source": [
    "data2 = [(\"James\", \"Smith\", \"M\", 3000),\n",
    "         (\"Michael\", \"Rose\", \"M\", 6000),\n",
    "         (\"Robert\", \"Willians\", \"M\", 5500),\n",
    "         (\"Maria\", \"Anne\", \"F\", 7000)\n",
    "        ]\n",
    "\n",
    "schema = StructType([\n",
    "    StructField(\"firtsname\", StringType(), True),\n",
    "    StructField(\"lastname\", StringType(), True),\n",
    "    StructField(\"gender\", StringType(), True),\n",
    "    StructField(\"salary\", StringType(), True)\n",
    "])\n",
    "\n",
    "df = spark.createDataFrame(data=data2, schema=schema)\n",
    "df.show()"
   ]
  },
  {
   "cell_type": "code",
   "execution_count": 5,
   "id": "3d2db41e-bef5-404d-bbd6-c2bc2c8d813e",
   "metadata": {},
   "outputs": [],
   "source": [
    "df.createOrReplaceTempView(\"tb_sql\")"
   ]
  },
  {
   "cell_type": "code",
   "execution_count": 15,
   "id": "5d18ee30-047a-4d97-8bcb-af0b267762c4",
   "metadata": {},
   "outputs": [],
   "source": [
    "query = spark.sql(\"\"\"\n",
    "select * from tb_sql where firtsname = 'James'\n",
    "\"\"\")"
   ]
  },
  {
   "cell_type": "code",
   "execution_count": 16,
   "id": "2a193834-cd7d-4b88-b7d7-d8d5ba428ccf",
   "metadata": {},
   "outputs": [],
   "source": [
    "query.write.format(\"delta\").mode(\"append\").save('s3a://bronze/tb_sql')"
   ]
  },
  {
   "cell_type": "markdown",
   "id": "eb708d1f-9bed-448e-a8ec-bfd8becde1c2",
   "metadata": {},
   "source": [
    "## SQL on Dataframe"
   ]
  },
  {
   "cell_type": "code",
   "execution_count": 21,
   "id": "5bf669c2-3962-4bd3-91a0-a6aa0de5ce0e",
   "metadata": {},
   "outputs": [],
   "source": [
    "df_sql = spark.read.format(\"delta\").load('s3a://bronze/tb_sql') "
   ]
  },
  {
   "cell_type": "code",
   "execution_count": 22,
   "id": "50dfa839-1626-4e1e-b7d4-3f3ffd2ba8d8",
   "metadata": {},
   "outputs": [],
   "source": [
    "result_df_sql = spark.sql(\"SELECT * FROM tb_sql\", df=df_sql)"
   ]
  },
  {
   "cell_type": "code",
   "execution_count": 23,
   "id": "49b97eb4-ed19-46d8-a4c6-9c263b38eeb5",
   "metadata": {},
   "outputs": [
    {
     "name": "stdout",
     "output_type": "stream",
     "text": [
      "+---------+--------+------+------+\n",
      "|firtsname|lastname|gender|salary|\n",
      "+---------+--------+------+------+\n",
      "|    James|   Smith|     M|  3000|\n",
      "|  Michael|    Rose|     M|  6000|\n",
      "|   Robert|Willians|     M|  5500|\n",
      "|    Maria|    Anne|     F|  7000|\n",
      "+---------+--------+------+------+\n",
      "\n"
     ]
    }
   ],
   "source": [
    "result_df_sql.show()"
   ]
  }
 ],
 "metadata": {
  "kernelspec": {
   "display_name": "Python 3 (ipykernel)",
   "language": "python",
   "name": "python3"
  },
  "language_info": {
   "codemirror_mode": {
    "name": "ipython",
    "version": 3
   },
   "file_extension": ".py",
   "mimetype": "text/x-python",
   "name": "python",
   "nbconvert_exporter": "python",
   "pygments_lexer": "ipython3",
   "version": "3.10.8"
  }
 },
 "nbformat": 4,
 "nbformat_minor": 5
}
