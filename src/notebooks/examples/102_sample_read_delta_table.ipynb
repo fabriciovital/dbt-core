{
 "cells": [
  {
   "cell_type": "markdown",
   "id": "f9f0785b-09ec-483f-978c-23a20e1f10be",
   "metadata": {
    "tags": []
   },
   "source": [
    "## Sample read Delta table on Minio"
   ]
  },
  {
   "cell_type": "code",
   "execution_count": 1,
   "id": "533d3d12-cd80-4c7a-ba04-fb8421273f6d",
   "metadata": {},
   "outputs": [],
   "source": [
    "from pyspark import SparkContext, SparkConf\n",
    "from pyspark.sql import SparkSession\n",
    "from pyspark.sql.functions import *\n",
    "from pyspark.sql.types import *\n",
    "from dotenv import load_dotenv\n",
    "import os\n"
   ]
  },
  {
   "cell_type": "code",
   "execution_count": 2,
   "id": "c0755a3a-abd3-46dd-9928-82fbb580cc2d",
   "metadata": {},
   "outputs": [],
   "source": [
    "load_dotenv()\n",
    "\n",
    "HOST_ADDRESS = os.getenv(\"HOST_ADDRESS\")\n",
    "MINIO_ACCESS_KEY = os.getenv(\"MINIO_ACCESS_KEY\")\n",
    "MINIO_SECRET_KEY = os.getenv(\"MINIO_SECRET_KEY\")\n",
    "\n",
    "conf = SparkConf()\n",
    "\n",
    "conf.setAppName(\"Sample read Delta table\")\n",
    "conf.set(\"spark.hadoop.fs.s3a.endpoint\", f\"http://{HOST_ADDRESS}:9000\")\n",
    "conf.set(\"spark.hadoop.fs.s3a.access.key\", MINIO_ACCESS_KEY)\n",
    "conf.set(\"spark.hadoop.fs.s3a.secret.key\", MINIO_SECRET_KEY)\n",
    "conf.set(\"spark.hadoop.fs.s3a.path.style.access\", True)\n",
    "conf.set(\"spark.hadoop.fs.s3a.impl\", \"org.apache.hadoop.fs.s3a.S3AFileSystem\")\n",
    "conf.set('spark.hadoop.fs.s3a.aws.credentials.provider', 'org.apache.hadoop.fs.s3a.SimpleAWSCredentialsProvider')\n",
    "conf.set(\"spark.sql.extensions\", \"io.delta.sql.DeltaSparkSessionExtension\")\n",
    "conf.set(\"spark.sql.catalog.spark_catalog\", \"org.apache.spark.sql.delta.catalog.DeltaCatalog\") \n",
    "conf.set(\"hive.metastore.uris\", \"thrift://metastore:9083\")\n",
    "\n",
    "spark = SparkSession.builder.config(conf=conf).enableHiveSupport().getOrCreate()"
   ]
  },
  {
   "cell_type": "code",
   "execution_count": 3,
   "id": "2975d15b-0bd6-46db-89e7-471e74ccaefc",
   "metadata": {},
   "outputs": [],
   "source": [
    "df = spark.read.format(\"delta\").load('s3a://bronze/adventure_works/bronze_humanresources_department')"
   ]
  },
  {
   "cell_type": "code",
   "execution_count": 4,
   "id": "e7277a02-bbb0-4d41-b63a-ba164a082e30",
   "metadata": {},
   "outputs": [
    {
     "name": "stdout",
     "output_type": "stream",
     "text": [
      "+------------+--------------------+--------------------+-------------------+--------------------+---------+\n",
      "|departmentid|                name|           groupname|       modifieddate|         last_update|month_key|\n",
      "+------------+--------------------+--------------------+-------------------+--------------------+---------+\n",
      "|           1|         Engineering|Research and Deve...|2008-04-30 00:00:00|2024-09-22 23:28:...|   200804|\n",
      "|           2|         Tool Design|Research and Deve...|2008-04-30 00:00:00|2024-09-22 23:28:...|   200804|\n",
      "|           3|               Sales| Sales and Marketing|2008-04-30 00:00:00|2024-09-22 23:28:...|   200804|\n",
      "|           4|           Marketing| Sales and Marketing|2008-04-30 00:00:00|2024-09-22 23:28:...|   200804|\n",
      "|           5|          Purchasing|Inventory Management|2008-04-30 00:00:00|2024-09-22 23:28:...|   200804|\n",
      "|           6|Research and Deve...|Research and Deve...|2008-04-30 00:00:00|2024-09-22 23:28:...|   200804|\n",
      "|           7|          Production|       Manufacturing|2008-04-30 00:00:00|2024-09-22 23:28:...|   200804|\n",
      "|           8|  Production Control|       Manufacturing|2008-04-30 00:00:00|2024-09-22 23:28:...|   200804|\n",
      "|           9|     Human Resources|Executive General...|2008-04-30 00:00:00|2024-09-22 23:28:...|   200804|\n",
      "|          10|             Finance|Executive General...|2008-04-30 00:00:00|2024-09-22 23:28:...|   200804|\n",
      "|          11|Information Services|Executive General...|2008-04-30 00:00:00|2024-09-22 23:28:...|   200804|\n",
      "|          12|    Document Control|   Quality Assurance|2008-04-30 00:00:00|2024-09-22 23:28:...|   200804|\n",
      "|          13|   Quality Assurance|   Quality Assurance|2008-04-30 00:00:00|2024-09-22 23:28:...|   200804|\n",
      "|          14|Facilities and Ma...|Executive General...|2008-04-30 00:00:00|2024-09-22 23:28:...|   200804|\n",
      "|          15|Shipping and Rece...|Inventory Management|2008-04-30 00:00:00|2024-09-22 23:28:...|   200804|\n",
      "|          16|           Executive|Executive General...|2008-04-30 00:00:00|2024-09-22 23:28:...|   200804|\n",
      "+------------+--------------------+--------------------+-------------------+--------------------+---------+\n",
      "\n"
     ]
    }
   ],
   "source": [
    "df.show()"
   ]
  },
  {
   "cell_type": "code",
   "execution_count": null,
   "id": "37f5a1e7-6dff-4353-97cf-5663833540ac",
   "metadata": {},
   "outputs": [],
   "source": []
  }
 ],
 "metadata": {
  "kernelspec": {
   "display_name": "Python 3 (ipykernel)",
   "language": "python",
   "name": "python3"
  },
  "language_info": {
   "codemirror_mode": {
    "name": "ipython",
    "version": 3
   },
   "file_extension": ".py",
   "mimetype": "text/x-python",
   "name": "python",
   "nbconvert_exporter": "python",
   "pygments_lexer": "ipython3",
   "version": "3.10.8"
  }
 },
 "nbformat": 4,
 "nbformat_minor": 5
}
