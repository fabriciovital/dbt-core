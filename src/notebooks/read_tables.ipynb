{
 "cells": [
  {
   "cell_type": "code",
   "execution_count": 1,
   "id": "b510e885-ae82-40c8-a52a-b6fbe84c1fb8",
   "metadata": {},
   "outputs": [],
   "source": [
    "import pyspark\n",
    "from pyspark.sql import SparkSession\n",
    "import logging\n",
    "from datetime import datetime\n",
    "from pyspark.sql.functions import lit, coalesce, col, current_date\n",
    "from configs import configs\n",
    "from functions import functions as F\n",
    "from dotenv import load_dotenv\n",
    "import os"
   ]
  },
  {
   "cell_type": "code",
   "execution_count": 2,
   "id": "16c9816b-0c76-4b84-94b4-bfe00b92f5c2",
   "metadata": {},
   "outputs": [],
   "source": [
    "load_dotenv()\n",
    "\n",
    "HOST_ADDRESS=os.getenv('HOST_ADDRESS')\n",
    "MINIO_ACCESS_KEY=os.getenv('MINIO_ACCESS_KEY')\n",
    "MINIO_SECRET_KEY=os.getenv('MINIO_SECRET_KEY')"
   ]
  },
  {
   "cell_type": "code",
   "execution_count": 3,
   "id": "b2593269-ecc4-4e65-ad29-d9620456d186",
   "metadata": {},
   "outputs": [],
   "source": [
    "if __name__ == \"__main__\":\n",
    "    spark = SparkSession.builder \\\n",
    "            .appName(\"process_bronze_to_silver_isp_performance\") \\\n",
    "            .config(\"spark.hadoop.fs.s3a.endpoint\", f\"http://{HOST_ADDRESS}:9000\") \\\n",
    "            .config(\"spark.hadoop.fs.s3a.access.key\", MINIO_ACCESS_KEY) \\\n",
    "            .config(\"spark.hadoop.fs.s3a.secret.key\", MINIO_SECRET_KEY) \\\n",
    "            .config(\"spark.hadoop.fs.s3a.path.style.access\", True) \\\n",
    "            .config(\"spark.hadoop.fs.s3a.impl\", \"org.apache.hadoop.fs.s3a.S3AFileSystem\") \\\n",
    "            .config(\"spark.hadoop.fs.s3a.aws.credentials.provider\", \"org.apache.hadoop.fs.s3a.SimpleAWSCredentialsProvider\") \\\n",
    "            .config(\"hive.metastore.uris\", \"thrift://metastore:9083\") \\\n",
    "            .config(\"spark.sql.extensions\", \"io.delta.sql.DeltaSparkSessionExtension\") \\\n",
    "            .config(\"spark.sql.catalog.spark_catalog\", \"org.apache.spark.sql.delta.catalog.DeltaCatalog\") \\\n",
    "            .config(\"spark.executor.memory\", \"4g\") \\\n",
    "            .config(\"spark.driver.memory\", \"4g\") \\\n",
    "            .config(\"spark.memory.fraction\", \"0.8\") \\\n",
    "            .config(\"spark.sql.shuffle.partitions\", \"50\") \\\n",
    "            .getOrCreate()"
   ]
  },
  {
   "cell_type": "code",
   "execution_count": 7,
   "id": "030823ea-c3ea-44f7-950b-f2dc8aa85783",
   "metadata": {},
   "outputs": [
    {
     "name": "stdout",
     "output_type": "stream",
     "text": [
      "+--------------------+-----------------+---------------------+------------------+------------------+---------------+-------+-----------------+---+----+---------+-------------+----------+-------------------+---------------------+--------+------+----------+----------+-----+---------+----------+----------+--------------------+------------+--------+-----------+-------------+-----+-----------+--------+------+---------+----------+--------+-----------+-------------------+----------+-------------------+---------------+--------------------+-----------+---------------------+---+-----------------+-------------+------------+--------+-------------------+-----------------+--------------+---------+---------------+--------------------------+-------------------------+--------------+---------------+---------------+-------------------+\n",
      "|   mensagem_resposta|data_hora_analise|data_hora_encaminhado|data_hora_assumido|data_hora_execucao|id_contrato_kit|preview|data_agenda_final| id|tipo|id_filial|id_wfl_tarefa|status_sla|      data_abertura|melhor_horario_agenda|liberado|status|id_cliente|id_assunto|setor|id_cidade|id_tecnico|prioridade|            mensagem|   protocolo|endereco|complemento|id_condominio|bloco|apartamento|latitude|bairro|longitude|referencia|impresso|data_inicio|        data_agenda|data_final|    data_fechamento|id_wfl_param_os|valor_total_comissao|valor_total|valor_outras_despesas|idx|id_su_diagnostico|gera_comissao|id_estrutura|id_login|valor_unit_comissao|data_prazo_limite|data_reservada|id_ticket|origem_endereco|justificativa_sla_atrasado|origem_endereco_estrutura|data_reagendar|data_prev_final|origem_cadastro| ultima_atualizacao|\n",
      "+--------------------+-----------------+---------------------+------------------+------------------+---------------+-------+-----------------+---+----+---------+-------------+----------+-------------------+---------------------+--------+------+----------+----------+-----+---------+----------+----------+--------------------+------------+--------+-----------+-------------+-----+-----------+--------+------+---------+----------+--------+-----------+-------------------+----------+-------------------+---------------+--------------------+-----------+---------------------+---+-----------------+-------------+------------+--------+-------------------+-----------------+--------------+---------+---------------+--------------------------+-------------------------+--------------+---------------+---------------+-------------------+\n",
      "|Solucionado sem d...|                 |                     |                  |                  |               |       |                 |  1|   C|        1|             |          |2015-07-17 14:32:37|                    M|       1|     F|      2129|         4|    1|         |        14|         N|            TESTE LU| 15071714275|        |           |             |     |           |        |      |         |          |       N|           |2015-07-18 00:00:00|          |2015-07-29 16:32:32|               |                0.00|       0.00|                     |   |                 |            S|            |        |               0.00|                 |              |         |               |                          |                        E|              |               |              P|2021-12-08 22:40:12|\n",
      "|                  OK|                 |                     |                  |                  |               |       |                 |  2|   C|        4|             |          |2015-07-20 11:15:40|                    T|       1|     F|      3109|         2|    1|         |        14|         N|        SEM INTERNET| 15072011146|        |           |             |     |           |        |      |         |          |       N|           |2015-07-21 00:00:00|          |2015-07-23 11:20:01|               |                0.00|       0.00|                     |   |                 |            S|            |        |               0.00|                 |              |         |               |                          |                        E|              |               |              P|2021-12-08 22:40:12|\n",
      "|                  OK|                 |                     |                  |                  |               |       |                 |  3|   C|        4|             |          |2015-07-20 11:18:22|                    T|       1|     F|      3121|         2|    1|         |        14|         N|        SEM INTERNET| 15072011177|        |           |             |     |           |        |      |         |          |       N|           |2015-07-21 00:00:00|          |2015-07-23 11:22:15|               |                0.00|       0.00|                     |   |                 |            S|            |        |               0.00|                 |              |         |               |                          |                        E|              |               |              P|2021-12-08 22:40:12|\n",
      "|                  OK|                 |                     |                  |                  |               |       |                 |  4|   C|        4|             |          |2015-07-20 11:23:52|                    T|       1|     F|      2341|         2|    1|         |        14|         N|TROCAR CABO DE LU...| 15072011238|        |           |             |     |           |        |      |         |          |       N|           |2015-07-21 00:00:00|          |2015-07-23 11:21:45|               |                0.00|       0.00|                     |   |                 |            S|            |        |               0.00|                 |              |         |               |                          |                        E|              |               |              P|2021-12-08 22:40:12|\n",
      "|                  OK|                 |                     |                  |                  |               |       |                 |  5|   C|        4|             |          |2015-07-20 11:24:59|                    T|       1|     F|      1554|         2|    1|         |        14|         N|        SEM INTERNET| 15072011249|        |           |             |     |           |        |      |         |          |       N|           |2015-07-21 00:00:00|          |2015-07-23 11:21:29|               |                0.00|       0.00|                     |   |                 |            S|            |        |               0.00|                 |              |         |               |                          |                        E|              |               |              P|2021-12-08 22:40:12|\n",
      "|                  OK|                 |                     |                  |                  |               |       |                 |  6|   C|        4|             |          |2015-07-20 11:28:19|                    T|       1|     F|      2881|         2|    1|         |        14|         N| INSTALAÇAO ROTEADOR|150720112710|        |           |             |     |           |        |      |         |          |       N|           |2015-07-21 00:00:00|          |2015-07-23 11:21:00|               |                0.00|       0.00|                     |   |                 |            S|            |        |               0.00|                 |              |         |               |                          |                        E|              |               |              P|2021-12-08 22:40:12|\n",
      "|                  OK|                 |                     |                  |                  |               |       |                 |  7|   C|        4|             |          |2015-07-20 11:30:37|                    T|       1|     F|      1410|         2|    1|         |        14|         N|        SEM INTERNET|150720113011|        |           |             |     |           |        |      |         |          |       N|           |2015-07-21 00:00:00|          |2015-07-23 11:21:15|               |                0.00|       0.00|                     |   |                 |            S|            |        |               0.00|                 |              |         |               |                          |                        E|              |               |              P|2021-12-08 22:40:12|\n",
      "|Solucionado sem d...|                 |                     |                  |                  |               |       |                 |  8|   C|        1|             |          |2015-07-20 15:59:16|                    T|       1|     F|      4153|         2|    1|         |        14|         N|CLIENTE ESTA COM ...|150720155712|        |           |             |     |           |        |      |         |          |       N|           |2015-07-20 00:00:00|          |2015-07-30 17:24:46|               |                0.00|       0.00|                     |   |                 |            S|            |        |               0.00|                 |              |         |               |                          |                        E|              |               |              P|2021-12-08 22:40:12|\n",
      "|                  OK|                 |                     |                  |                  |               |       |                 |  9|   C|        4|             |          |2015-07-21 15:17:30|                    T|       1|     F|      1601|         2|    1|         |        14|         N|        SEM INTERNET|150721150915|        |           |             |     |           |        |      |         |          |       N|           |2015-07-22 00:00:00|          |2015-07-23 11:22:28|               |                0.00|       0.00|                     |   |                 |            S|            |        |               0.00|                 |              |         |               |                          |                        E|              |               |              P|2021-12-08 22:40:12|\n",
      "|Solucionado sem d...|                 |                     |                  |                  |               |       |                 | 10|   C|        4|             |          |2015-07-22 12:01:13|                    T|       1|     F|      3554|         4|    1|         |        14|         N|AV. JORGE TEIXEIR...|150722115517|        |           |             |     |           |        |      |         |          |       N|           |2015-07-23 00:00:00|          |2015-08-05 09:36:25|               |                0.00|       0.00|                     |   |                 |            S|            |        |               0.00|                 |              |         |               |                          |                        E|              |               |              P|2021-12-08 22:40:12|\n",
      "|                  OK|                 |                     |                  |                  |               |       |                 | 11|   C|        4|             |          |2015-07-22 17:00:45|                    M|       1|     F|      3193|         4|    1|         |        14|         N|MUDOU PARA A CASA...|150722165819|        |           |             |     |           |        |      |         |          |       N|           |2015-07-23 00:00:00|          |2015-07-24 08:26:49|               |                0.00|       0.00|                     |   |                 |            S|            |        |               0.00|                 |              |         |               |                          |                        E|              |               |              P|2021-12-08 22:40:12|\n",
      "|Solucionado sem d...|                 |                     |                  |                  |               |       |                 | 12|   C|        4|             |          |2015-07-23 14:55:09|                    T|       1|     F|      2873|         5|    1|         |        14|         N|RETIRAR EQUIPAMEN...|150723145420|        |           |             |     |           |        |      |         |          |       N|           |2015-07-24 00:00:00|          |2015-08-05 09:37:03|               |                0.00|       0.00|                     |   |                 |            S|            |        |               0.00|                 |              |         |               |                          |                        E|              |               |              P|2021-12-08 22:40:12|\n",
      "|Solucionado sem d...|                 |                     |                  |                  |               |       |                 | 13|   C|        4|             |          |2015-07-24 08:28:34|                    M|       1|     F|      3193|         2|    1|         |        14|         N|   TROCA DE ENDEREÇO|150724082722|        |           |             |     |           |        |      |         |          |       N|           |2015-07-25 00:00:00|          |2015-08-05 09:37:25|               |                0.00|       0.00|                     |   |                 |            S|            |        |               0.00|                 |              |         |               |                          |                        E|              |               |              P|2021-12-08 22:40:12|\n",
      "|Solucionado sem d...|                 |                     |                  |                  |               |       |                 | 14|   C|        4|             |          |2015-07-24 10:34:20|                    T|       1|     F|      1505|         2|    1|         |        14|         N|SEM INTERNET E TE...|150724103123|        |           |             |     |           |        |      |         |          |       N|           |2015-07-25 00:00:00|          |2015-08-05 09:38:12|               |                0.00|       0.00|                     |   |                 |            S|            |        |               0.00|                 |              |         |               |                          |                        E|              |               |              P|2021-12-08 22:40:12|\n",
      "|Solucionado sem d...|                 |                     |                  |                  |               |       |                 | 15|   C|        4|             |          |2015-07-27 16:24:55|                    T|       1|     F|      2704|         2|    1|         |        14|         N|NÃO CONSEGUE ACES...|150727160525|        |           |             |     |           |        |      |         |          |       N|           |2015-07-28 00:00:00|          |2015-08-05 09:39:12|               |                0.00|       0.00|                     |   |                 |            S|            |        |               0.00|                 |              |         |               |                          |                        E|              |               |              P|2021-12-08 22:40:12|\n",
      "|Solucionado sem d...|                 |                     |                  |                  |               |       |                 | 16|   C|        4|             |          |2015-07-28 07:24:41|                    M|       1|     F|      4199|         1|    1|         |        14|         N|                    |150728072226|        |           |             |     |           |        |      |         |          |       N|           |2015-07-28 00:00:00|          |2015-08-05 09:38:47|               |                0.00|       0.00|                     |   |                 |            S|            |        |               0.00|                 |              |         |               |                          |                        E|              |               |              P|2021-12-08 22:40:12|\n",
      "|Solucionado sem d...|                 |                     |                  |                  |               |       |                 | 17|   C|        1|             |          |2015-07-28 14:48:15|                    T|       1|     F|      3416|         6|    1|         |        14|         N|LOGIM: AGEUSANTOS...|150728144527|        |           |             |     |           |        |      |         |          |       N|           |2015-07-29 00:00:00|          |2015-07-29 11:20:20|               |                0.00|       0.00|                     |   |                 |            S|            |        |               0.00|                 |              |         |               |                          |                        E|              |               |              P|2021-12-08 22:40:12|\n",
      "|Solucionado sem d...|                 |                     |                  |                  |               |       |                 | 18|   C|        4|             |          |2015-07-28 14:55:23|                    T|       1|     F|      4200|         1|    1|         |        14|         N|                    |150728145428|        |           |             |     |           |        |      |         |          |       N|           |2015-07-29 00:00:00|          |2015-08-05 09:39:30|               |                0.00|       0.00|                     |   |                 |            S|            |        |               0.00|                 |              |         |               |                          |                        E|              |               |              P|2021-12-08 22:40:12|\n",
      "|OS antiga sistema...|                 |                     |                  |                  |               |       |                 | 19|   C|        1|             |          |2015-07-28 15:36:20|                    M|       1|     F|      3566|         6|    1|         |        14|         N|                    |150728153529|        |           |             |     |           |        |      |         |          |       N|           |2015-07-29 00:00:00|          |2019-05-01 00:00:00|               |                0.00|       0.00|                     |   |                 |            S|            |        |               0.00|                 |              |         |               |                          |                        E|              |               |              P|2021-12-08 22:40:12|\n",
      "|Solucionado sem d...|                 |                     |                  |                  |               |       |                 | 20|   C|        4|             |          |2015-07-28 16:09:46|                    M|       1|     F|      1930|         4|    1|         |        14|         N|MUDANÇA DE ENDERE...|150728160830|        |           |             |     |           |        |      |         |          |       S|           |2015-07-29 00:00:00|          |2015-08-05 09:39:57|               |                0.00|       0.00|                     |   |                 |            S|            |        |               0.00|                 |              |         |               |                          |                        E|              |               |              P|2021-12-08 22:40:12|\n",
      "+--------------------+-----------------+---------------------+------------------+------------------+---------------+-------+-----------------+---+----+---------+-------------+----------+-------------------+---------------------+--------+------+----------+----------+-----+---------+----------+----------+--------------------+------------+--------+-----------+-------------+-----+-----------+--------+------+---------+----------+--------+-----------+-------------------+----------+-------------------+---------------+--------------------+-----------+---------------------+---+-----------------+-------------+------------+--------+-------------------+-----------------+--------------+---------+---------------+--------------------------+-------------------------+--------------+---------------+---------------+-------------------+\n",
      "only showing top 20 rows\n",
      "\n"
     ]
    }
   ],
   "source": [
    "df = spark.read.format(\"parquet\").load('s3a://landing/isp_performance/landing_ordem_servico_fechado').show()"
   ]
  },
  {
   "cell_type": "code",
   "execution_count": null,
   "id": "6670b16d-0e04-443d-9e0c-2a2cdc5c1a9e",
   "metadata": {},
   "outputs": [],
   "source": [
    "df = spark.read.format(\"delta\").load('s3a://landing/isp_performance/landing_dim_setor').show()"
   ]
  }
 ],
 "metadata": {
  "kernelspec": {
   "display_name": "Python 3 (ipykernel)",
   "language": "python",
   "name": "python3"
  },
  "language_info": {
   "codemirror_mode": {
    "name": "ipython",
    "version": 3
   },
   "file_extension": ".py",
   "mimetype": "text/x-python",
   "name": "python",
   "nbconvert_exporter": "python",
   "pygments_lexer": "ipython3",
   "version": "3.10.8"
  }
 },
 "nbformat": 4,
 "nbformat_minor": 5
}
