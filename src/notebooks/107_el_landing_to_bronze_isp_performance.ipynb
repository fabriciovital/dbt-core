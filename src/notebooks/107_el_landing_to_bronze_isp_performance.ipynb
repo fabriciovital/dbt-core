{
 "cells": [
  {
   "cell_type": "markdown",
   "id": "cc197479-ca68-4763-8395-7d6662c0ecd1",
   "metadata": {},
   "source": [
    "# el_landing_to_bronze_isp_performance"
   ]
  },
  {
   "cell_type": "code",
   "execution_count": 1,
   "id": "e584a845-623d-4ceb-b7e7-2e95d331990f",
   "metadata": {},
   "outputs": [],
   "source": [
    "import pyspark\n",
    "from pyspark.sql import SparkSession\n",
    "import logging\n",
    "from datetime import datetime\n",
    "from pyspark.sql.functions import lit\n",
    "from configs import configs\n",
    "from functions import functions as F\n",
    "from dotenv import load_dotenv\n",
    "import os\n"
   ]
  },
  {
   "cell_type": "markdown",
   "id": "6c696f8a-689c-417c-884d-24ffb4adc60a",
   "metadata": {
    "tags": []
   },
   "source": [
    "## Import Environment"
   ]
  },
  {
   "cell_type": "code",
   "execution_count": 2,
   "id": "e28ec7ad-433a-49cd-af50-d7697c99eec4",
   "metadata": {},
   "outputs": [],
   "source": [
    "load_dotenv()\n",
    "\n",
    "HOST_ADDRESS=os.getenv('HOST_ADDRESS')\n",
    "MINIO_ACCESS_KEY=os.getenv('MINIO_ACCESS_KEY')\n",
    "MINIO_SECRET_KEY=os.getenv('MINIO_SECRET_KEY')"
   ]
  },
  {
   "cell_type": "markdown",
   "id": "38549549-bea7-4c7b-b32d-444a3805bb88",
   "metadata": {},
   "source": [
    "## Spark Session"
   ]
  },
  {
   "cell_type": "code",
   "execution_count": 3,
   "id": "d197e652-f4a8-41f0-9394-72e99e01d8d7",
   "metadata": {},
   "outputs": [],
   "source": [
    "spark = SparkSession.builder \\\n",
    "        .appName(\"el_landing_to_bronze_adventureworks\") \\\n",
    "        .config(\"spark.hadoop.fs.s3a.endpoint\", f\"http://{HOST_ADDRESS}:9000\") \\\n",
    "        .config(\"spark.hadoop.fs.s3a.access.key\", MINIO_ACCESS_KEY) \\\n",
    "        .config(\"spark.hadoop.fs.s3a.secret.key\", MINIO_SECRET_KEY) \\\n",
    "        .config(\"spark.hadoop.fs.s3a.path.style.access\", True) \\\n",
    "        .config(\"spark.hadoop.fs.s3a.impl\", \"org.apache.hadoop.fs.s3a.S3AFileSystem\") \\\n",
    "        .config(\"spark.hadoop.fs.s3a.aws.credentials.provider\", \"org.apache.hadoop.fs.s3a.SimpleAWSCredentialsProvider\") \\\n",
    "        .config(\"hive.metastore.uris\", \"thrift://metastore:9083\") \\\n",
    "        .config(\"spark.sql.extensions\", \"io.delta.sql.DeltaSparkSessionExtension\") \\\n",
    "        .config(\"spark.sql.catalog.spark_catalog\", \"org.apache.spark.sql.delta.catalog.DeltaCatalog\") \\\n",
    "        .getOrCreate()"
   ]
  },
  {
   "cell_type": "markdown",
   "id": "c030dbc3-ae07-467f-b400-504e083623ec",
   "metadata": {},
   "source": [
    "## Log configs"
   ]
  },
  {
   "cell_type": "code",
   "execution_count": 4,
   "id": "9fe940d9-2bd8-4655-8ef5-ccccc59b3fa6",
   "metadata": {},
   "outputs": [
    {
     "name": "stderr",
     "output_type": "stream",
     "text": [
      "2024-10-21 03:34:02,752 - INFO - Starting convertions from Minio to Minio Delta...\n"
     ]
    }
   ],
   "source": [
    "logging.basicConfig(level=logging.INFO, format='%(asctime)s - %(levelname)s - %(message)s')\n",
    "\n",
    "logging.info(\"Starting convertions from Minio to Minio Delta...\")"
   ]
  },
  {
   "cell_type": "markdown",
   "id": "858a1ec3-55aa-4876-aa4c-619e5dc0130f",
   "metadata": {},
   "source": [
    "## Path configs"
   ]
  },
  {
   "cell_type": "code",
   "execution_count": 5,
   "id": "ba8fcd78-5c75-4c2b-bbc9-a3a26701889f",
   "metadata": {},
   "outputs": [],
   "source": [
    "input_prefix_layer_name = configs.prefix_layer_name['0']\n",
    "table_input_name = configs.lake_path['landing']\n",
    "output_prefix_layer_name = configs.prefix_layer_name['1']\n",
    "storage_output = configs.lake_path['bronze']"
   ]
  },
  {
   "cell_type": "markdown",
   "id": "20c37382-8e19-495f-8443-0463d7416882",
   "metadata": {},
   "source": [
    "## Process"
   ]
  },
  {
   "cell_type": "code",
   "execution_count": 6,
   "id": "b8473c80-4853-4750-b0af-bb69be080827",
   "metadata": {},
   "outputs": [
    {
     "name": "stderr",
     "output_type": "stream",
     "text": [
      "2024-10-21 03:34:30,121 - INFO - Table ordem_servico_aberto sucessfully processed and saved to Minio: s3a://bronze/isp_performance/bronze_ordem_servico_aberto\n",
      "2024-10-21 03:34:30,123 - INFO - Convertion from parquet to Delta completed was sucessfully!\n"
     ]
    }
   ],
   "source": [
    "for key, value in configs.tables_api_isp_performance.items():\n",
    "    table = value\n",
    "    table_name = F.convert_table_name(table)\n",
    "    try:\n",
    "        df_input_data = spark.read.format(\"parquet\").load(f'{table_input_name}{input_prefix_layer_name}{table_name}')\n",
    "        df_with_update_date = F.add_metadata(df_input_data)\n",
    "        df_with_update_date.write.format(\"delta\").mode(\"overwrite\").partitionBy('month_key').save(f'{storage_output}{output_prefix_layer_name}{table_name}')\n",
    "        logging.info(f'Table {table_name} sucessfully processed and saved to Minio: {storage_output}{output_prefix_layer_name}{table_name}')   \n",
    "    except Exception as e:\n",
    "        logging.error(f'Error processing table {table}: {str(e)}')\n",
    "        \n",
    "logging.info(\"Convertion from parquet to Delta completed was sucessfully!\")"
   ]
  },
  {
   "cell_type": "code",
   "execution_count": null,
   "id": "9543fdce-2743-4b09-9845-179fc1836097",
   "metadata": {},
   "outputs": [],
   "source": []
  }
 ],
 "metadata": {
  "kernelspec": {
   "display_name": "Python 3 (ipykernel)",
   "language": "python",
   "name": "python3"
  },
  "language_info": {
   "codemirror_mode": {
    "name": "ipython",
    "version": 3
   },
   "file_extension": ".py",
   "mimetype": "text/x-python",
   "name": "python",
   "nbconvert_exporter": "python",
   "pygments_lexer": "ipython3",
   "version": "3.10.8"
  }
 },
 "nbformat": 4,
 "nbformat_minor": 5
}
