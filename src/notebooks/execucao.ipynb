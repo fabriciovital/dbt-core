{
 "cells": [
  {
   "cell_type": "code",
   "execution_count": 1,
   "id": "ecc9230c-167f-4214-aa79-2e979a275cd8",
   "metadata": {},
   "outputs": [
    {
     "name": "stdout",
     "output_type": "stream",
     "text": [
      "Requirement already satisfied: python-dotenv in /opt/conda/lib/python3.10/site-packages (1.0.1)\n",
      "Note: you may need to restart the kernel to use updated packages.\n"
     ]
    }
   ],
   "source": [
    "pip install python-dotenv"
   ]
  },
  {
   "cell_type": "code",
   "execution_count": 2,
   "id": "5185c75e-4af4-4c4b-bed2-270bc6c921ef",
   "metadata": {},
   "outputs": [
    {
     "name": "stderr",
     "output_type": "stream",
     "text": [
      "2024-12-20 02:35:53,597 - INFO - Starting processing from silver to gold...\n",
      "2024-12-20 02:36:14,524 - INFO - Table overwritten successfully at s3a://gold/isp_performance/gold_ordem_servico_fechado_resumo_situacao\n",
      "2024-12-20 02:36:19,802 - INFO - Old versions of Delta table at 's3a://gold/isp_performance/gold_ordem_servico_fechado_resumo_situacao' have been removed (VACUUM).\n",
      "2024-12-20 02:36:19,803 - INFO - Process to gold completed!\n"
     ]
    }
   ],
   "source": [
    "import pyspark\n",
    "from pyspark.sql import SparkSession\n",
    "import logging\n",
    "from configs import configs\n",
    "from functions import functions as F\n",
    "from dotenv import load_dotenv\n",
    "import os\n",
    "\n",
    "# Carregar variáveis de ambiente\n",
    "load_dotenv()\n",
    "\n",
    "HOST_ADDRESS = os.getenv('HOST_ADDRESS')\n",
    "MINIO_ACCESS_KEY = os.getenv('MINIO_ACCESS_KEY')\n",
    "MINIO_SECRET_KEY = os.getenv('MINIO_SECRET_KEY')\n",
    "\n",
    "def process_table(spark, df_input_data, output_path):\n",
    "    \"\"\"\n",
    "    Processa uma tabela apenas com sobrescrita direta.\n",
    "    \"\"\"\n",
    "    try:\n",
    "        # Adicionar metadados\n",
    "        df_with_update_date = F.add_metadata(df_input_data)\n",
    "\n",
    "        # Sobrescrever diretamente\n",
    "        df_with_update_date.write \\\n",
    "            .format(\"delta\") \\\n",
    "            .option(\"overwriteSchema\", \"true\") \\\n",
    "            .mode(\"overwrite\") \\\n",
    "            .save(output_path)\n",
    "        \n",
    "        logging.info(f\"Table overwritten successfully at {output_path}\")\n",
    "\n",
    "        # Limpar versões antigas imediatamente\n",
    "        spark.sql(f\"VACUUM delta.`{output_path}` RETAIN 0 HOURS\")\n",
    "        logging.info(f\"Old versions of Delta table at '{output_path}' have been removed (VACUUM).\")\n",
    "            \n",
    "    except Exception as e:\n",
    "        logging.error(f\"Error processing table at '{output_path}': {str(e)}\")\n",
    "\n",
    "if __name__ == \"__main__\":\n",
    "    spark = SparkSession.builder \\\n",
    "            .appName(\"process_silver_to_gold_isp_performance\") \\\n",
    "            .config(\"spark.hadoop.fs.s3a.endpoint\", f\"http://{HOST_ADDRESS}:9000\") \\\n",
    "            .config(\"spark.hadoop.fs.s3a.access.key\", MINIO_ACCESS_KEY) \\\n",
    "            .config(\"spark.hadoop.fs.s3a.secret.key\", MINIO_SECRET_KEY) \\\n",
    "            .config(\"spark.hadoop.fs.s3a.path.style.access\", True) \\\n",
    "            .config(\"spark.hadoop.fs.s3a.impl\", \"org.apache.hadoop.fs.s3a.S3AFileSystem\") \\\n",
    "            .config(\"spark.hadoop.fs.s3a.aws.credentials.provider\", \"org.apache.hadoop.fs.s3a.SimpleAWSCredentialsProvider\") \\\n",
    "            .config(\"hive.metastore.uris\", \"thrift://metastore:9083\") \\\n",
    "            .config(\"spark.sql.extensions\", \"io.delta.sql.DeltaSparkSessionExtension\") \\\n",
    "            .config(\"spark.sql.catalog.spark_catalog\", \"org.apache.spark.sql.delta.catalog.DeltaCatalog\") \\\n",
    "            .config(\"spark.executor.memory\", \"4g\") \\\n",
    "            .config(\"spark.driver.memory\", \"4g\") \\\n",
    "            .config(\"spark.memory.fraction\", \"0.8\") \\\n",
    "            .config(\"spark.sql.shuffle.partitions\", \"50\") \\\n",
    "            .getOrCreate()\n",
    "\n",
    "    # Desabilitar a verificação de retenção de duração no Delta Lake\n",
    "    spark.conf.set(\"spark.databricks.delta.retentionDurationCheck.enabled\", \"false\")    \n",
    "    \n",
    "    logging.basicConfig(level=logging.INFO, format='%(asctime)s - %(levelname)s - %(message)s')\n",
    "\n",
    "    logging.info(\"Starting processing from silver to gold...\")\n",
    "\n",
    "    input_prefix_layer_name = configs.prefix_layer_name['2']  # silver layer\n",
    "    input_path = configs.lake_path['silver']\n",
    "\n",
    "    output_prefix_layer_name = configs.prefix_layer_name['3']  # gold layer\n",
    "    output_path = configs.lake_path['gold']\n",
    "\n",
    "    try:\n",
    "        for table_name, query_input in configs.tables_gold_produtividade.items():\n",
    "            table_name = F.convert_table_name(table_name)\n",
    "            query_input = F.get_query(table_name, input_path, input_prefix_layer_name, configs.tables_gold_produtividade)\n",
    "            \n",
    "            storage_output = f'{output_path}{output_prefix_layer_name}{table_name}'\n",
    "            \n",
    "            # Carregar dados da tabela\n",
    "            df_input_data = spark.sql(query_input)\n",
    "            \n",
    "            # Processar tabela com sobrescrita\n",
    "            process_table(spark, df_input_data, storage_output)\n",
    "            \n",
    "        logging.info(\"Process to gold completed!\")\n",
    "\n",
    "    except Exception as e:\n",
    "        logging.error(f'Error processing table: {str(e)}')"
   ]
  }
 ],
 "metadata": {
  "kernelspec": {
   "display_name": "Python 3 (ipykernel)",
   "language": "python",
   "name": "python3"
  },
  "language_info": {
   "codemirror_mode": {
    "name": "ipython",
    "version": 3
   },
   "file_extension": ".py",
   "mimetype": "text/x-python",
   "name": "python",
   "nbconvert_exporter": "python",
   "pygments_lexer": "ipython3",
   "version": "3.10.8"
  }
 },
 "nbformat": 4,
 "nbformat_minor": 5
}
