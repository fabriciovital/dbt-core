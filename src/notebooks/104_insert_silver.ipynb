{
 "cells": [
  {
   "cell_type": "markdown",
   "id": "5c2b44f8-81cf-4677-a3bf-67fb009b1947",
   "metadata": {},
   "source": [
    "# process_bronze_to_silver_isp_performance"
   ]
  },
  {
   "cell_type": "code",
   "execution_count": null,
   "id": "ccd26d97-60c1-4c0c-9bec-2349c8a84c30",
   "metadata": {},
   "outputs": [],
   "source": [
    "import pyspark\n",
    "from pyspark.sql import SparkSession\n",
    "import logging\n",
    "from datetime import datetime\n",
    "from configs import configs\n",
    "from functions import functions as F\n",
    "from dotenv import load_dotenv\n",
    "import os"
   ]
  },
  {
   "cell_type": "markdown",
   "id": "4d918d03-8a40-4546-9a5f-6af6094230ff",
   "metadata": {},
   "source": [
    "## Import Environment"
   ]
  },
  {
   "cell_type": "code",
   "execution_count": null,
   "id": "7cd55f32-e80f-4b20-be1d-ed2d90467253",
   "metadata": {},
   "outputs": [],
   "source": [
    "load_dotenv()\n",
    "\n",
    "HOST_ADDRESS=os.getenv('HOST_ADDRESS')\n",
    "MINIO_ACCESS_KEY=os.getenv('MINIO_ACCESS_KEY')\n",
    "MINIO_SECRET_KEY=os.getenv('MINIO_SECRET_KEY')"
   ]
  },
  {
   "cell_type": "markdown",
   "id": "b72167ff-682b-4436-a0d1-295756ce7afc",
   "metadata": {},
   "source": [
    "## Function process table"
   ]
  },
  {
   "cell_type": "code",
   "execution_count": null,
   "id": "cb64e141-973f-4c6f-a73b-af6577466b8b",
   "metadata": {},
   "outputs": [],
   "source": [
    "def process_table(spark, query_input, output_path):\n",
    "    try:\n",
    "        df_input_data = spark.sql(query_input)\n",
    "        df_with_update_date = F.add_metadata(df_input_data)\n",
    "        df_with_update_date.write \\\n",
    "            .format(\"delta\") \\\n",
    "            .option(\"mergeSchema\", \"true\") \\\n",
    "            .mode(\"overwrite\") \\\n",
    "            .partitionBy('month_key') \\\n",
    "            .save(output_path)\n",
    "        logging.info(f\"query '{query_input}' successfully processed and saved to {output_path}\")\n",
    "    except Exception as e:\n",
    "        logging.error(f\"Error processing query '{query_input}': {str(e)}\")\n"
   ]
  },
  {
   "cell_type": "markdown",
   "id": "9ab74f57-3291-47c0-bea6-c2b1bcef5cea",
   "metadata": {},
   "source": [
    "## Spark Session"
   ]
  },
  {
   "cell_type": "code",
   "execution_count": null,
   "id": "2eec531d-8d49-4d76-9155-2b4c41164e36",
   "metadata": {},
   "outputs": [],
   "source": [
    "if __name__ == \"__main__\":\n",
    "    spark = SparkSession.builder \\\n",
    "            .appName(\"process_bronze_to_silver_isp_performance\") \\\n",
    "            .config(\"spark.hadoop.fs.s3a.endpoint\", f\"http://{HOST_ADDRESS}:9000\") \\\n",
    "            .config(\"spark.hadoop.fs.s3a.access.key\", MINIO_ACCESS_KEY) \\\n",
    "            .config(\"spark.hadoop.fs.s3a.secret.key\", MINIO_SECRET_KEY) \\\n",
    "            .config(\"spark.hadoop.fs.s3a.path.style.access\", True) \\\n",
    "            .config(\"spark.hadoop.fs.s3a.impl\", \"org.apache.hadoop.fs.s3a.S3AFileSystem\") \\\n",
    "            .config(\"spark.hadoop.fs.s3a.aws.credentials.provider\", \"org.apache.hadoop.fs.s3a.SimpleAWSCredentialsProvider\") \\\n",
    "            .config(\"hive.metastore.uris\", \"thrift://metastore:9083\") \\\n",
    "            .config(\"spark.sql.extensions\", \"io.delta.sql.DeltaSparkSessionExtension\") \\\n",
    "            .config(\"spark.sql.catalog.spark_catalog\", \"org.apache.spark.sql.delta.catalog.DeltaCatalog\") \\\n",
    "            .config(\"spark.executor.memory\", \"4g\") \\\n",
    "            .config(\"spark.driver.memory\", \"4g\") \\\n",
    "            .config(\"spark.memory.fraction\", \"0.8\") \\\n",
    "            .config(\"spark.sql.shuffle.partitions\", \"50\") \\\n",
    "            .getOrCreate()"
   ]
  },
  {
   "cell_type": "markdown",
   "id": "99db9c99-7633-4d6a-b924-1aedef02d91c",
   "metadata": {},
   "source": [
    "## Log configs"
   ]
  },
  {
   "cell_type": "code",
   "execution_count": null,
   "id": "7567f5d1-2aec-4d4d-8bd4-a307ec95feee",
   "metadata": {},
   "outputs": [],
   "source": [
    "logging.basicConfig(level=logging.INFO, format='%(asctime)s - %(levelname)s - %(message)s')\n",
    "\n",
    "logging.info(\"Starting processing from bronze to silver...\")"
   ]
  },
  {
   "cell_type": "markdown",
   "id": "b9e468c0-7950-49fc-9112-b65960b519a3",
   "metadata": {},
   "source": [
    "## Path configs"
   ]
  },
  {
   "cell_type": "code",
   "execution_count": null,
   "id": "8ca49cdd-c4cb-49e8-b311-b16e7c0046e0",
   "metadata": {},
   "outputs": [],
   "source": [
    "input_prefix_layer_name = configs.prefix_layer_name['1']  # bronze layer\n",
    "input_path = configs.lake_path['bronze']\n",
    "\n",
    "output_prefix_layer_name = configs.prefix_layer_name['2']  # silver layer\n",
    "output_path = configs.lake_path['silver']"
   ]
  },
  {
   "cell_type": "markdown",
   "id": "b73d4262-40e9-4722-a7e4-eb77344dd482",
   "metadata": {},
   "source": [
    "## Process"
   ]
  },
  {
   "cell_type": "code",
   "execution_count": null,
   "id": "59373a4f-a244-46c4-9d56-9200f10ff55a",
   "metadata": {},
   "outputs": [],
   "source": [
    "try:\n",
    "    for table_name, query_input in configs.tables_silver.items():\n",
    "        table_name = F.convert_table_name(table_name)\n",
    "        \n",
    "        query_input = F.get_query(table_name, input_path, input_prefix_layer_name, configs.tables_silver)        \n",
    "        \n",
    "        storage_output = f'{output_path}{output_prefix_layer_name}{table_name}'\n",
    "        \n",
    "        process_table(spark, query_input, storage_output)\n",
    "        \n",
    "    logging.info(\"Process to silver completed!\")\n",
    "    \n",
    "except Exception as e:\n",
    "    logging.error(f'Error processing table: {str(e)}')"
   ]
  }
 ],
 "metadata": {
  "kernelspec": {
   "display_name": "Python 3 (ipykernel)",
   "language": "python",
   "name": "python3"
  },
  "language_info": {
   "codemirror_mode": {
    "name": "ipython",
    "version": 3
   },
   "file_extension": ".py",
   "mimetype": "text/x-python",
   "name": "python",
   "nbconvert_exporter": "python",
   "pygments_lexer": "ipython3",
   "version": "3.10.8"
  }
 },
 "nbformat": 4,
 "nbformat_minor": 5
}
