{
 "cells": [
  {
   "cell_type": "markdown",
   "id": "5c2b44f8-81cf-4677-a3bf-67fb009b1947",
   "metadata": {},
   "source": [
    "# refinement_silver_to_gold_adventureworks"
   ]
  },
  {
   "cell_type": "code",
   "execution_count": 1,
   "id": "fcb9343f-751f-4465-88f1-d7d550fb980c",
   "metadata": {},
   "outputs": [
    {
     "name": "stdout",
     "output_type": "stream",
     "text": [
      "Requirement already satisfied: python-dotenv in /opt/conda/lib/python3.10/site-packages (1.0.1)\n",
      "Note: you may need to restart the kernel to use updated packages.\n"
     ]
    }
   ],
   "source": [
    "pip install python-dotenv"
   ]
  },
  {
   "cell_type": "code",
   "execution_count": 2,
   "id": "ccd26d97-60c1-4c0c-9bec-2349c8a84c30",
   "metadata": {},
   "outputs": [],
   "source": [
    "import pyspark\n",
    "from pyspark.sql import SparkSession\n",
    "import logging\n",
    "from datetime import datetime\n",
    "\n",
    "from configs import configs\n",
    "from functions import functions as F\n",
    "\n",
    "from dotenv import load_dotenv\n",
    "import os"
   ]
  },
  {
   "cell_type": "markdown",
   "id": "4d918d03-8a40-4546-9a5f-6af6094230ff",
   "metadata": {},
   "source": [
    "## Import Environment"
   ]
  },
  {
   "cell_type": "code",
   "execution_count": 3,
   "id": "7cd55f32-e80f-4b20-be1d-ed2d90467253",
   "metadata": {},
   "outputs": [],
   "source": [
    "load_dotenv()\n",
    "\n",
    "HOST_ADDRESS=os.getenv('HOST_ADDRESS')\n",
    "MINIO_ACCESS_KEY=os.getenv('MINIO_ACCESS_KEY')\n",
    "MINIO_SECRET_KEY=os.getenv('MINIO_SECRET_KEY')"
   ]
  },
  {
   "cell_type": "markdown",
   "id": "b72167ff-682b-4436-a0d1-295756ce7afc",
   "metadata": {},
   "source": [
    "## Function process table"
   ]
  },
  {
   "cell_type": "code",
   "execution_count": 4,
   "id": "cb64e141-973f-4c6f-a73b-af6577466b8b",
   "metadata": {},
   "outputs": [],
   "source": [
    "def process_table(spark, query_input, output_path):\n",
    "    try:\n",
    "        df_input_data = spark.sql(query_input)\n",
    "        df_with_update_date = F.add_metadata(df_input_data)\n",
    "        df_with_update_date.write.format(\"delta\").mode(\"overwrite\").partitionBy('month_key').save(output_path)\n",
    "        logging.info(f\"query '{query_input}' sucessfully processed and saved to {output_path}\")\n",
    "    except Exception as e:\n",
    "        logging.error(f\"Error processsing query '{query_input}': {str(e)}\")"
   ]
  },
  {
   "cell_type": "markdown",
   "id": "9ab74f57-3291-47c0-bea6-c2b1bcef5cea",
   "metadata": {},
   "source": [
    "## Spark Session"
   ]
  },
  {
   "cell_type": "code",
   "execution_count": 5,
   "id": "2eec531d-8d49-4d76-9155-2b4c41164e36",
   "metadata": {},
   "outputs": [],
   "source": [
    "if __name__ == \"__main__\":\n",
    "    spark = SparkSession.builder \\\n",
    "            .appName(\"refinement_silver_to_gold_adventureworks\") \\\n",
    "            .config(\"spark.hadoop.fs.s3a.endpoint\", f\"http://{HOST_ADDRESS}:9000\") \\\n",
    "            .config(\"spark.hadoop.fs.s3a.access.key\", MINIO_ACCESS_KEY) \\\n",
    "            .config(\"spark.hadoop.fs.s3a.secret.key\", MINIO_SECRET_KEY) \\\n",
    "            .config(\"spark.hadoop.fs.s3a.path.style.access\", True) \\\n",
    "            .config(\"spark.hadoop.fs.s3a.impl\", \"org.apache.hadoop.fs.s3a.S3AFileSystem\") \\\n",
    "            .config(\"spark.hadoop.fs.s3a.aws.credentials.provider\", \"org.apache.hadoop.fs.s3a.SimpleAWSCredentialsProvider\") \\\n",
    "            .config(\"hive.metastore.uris\", \"thrift://metastore:9083\") \\\n",
    "            .config(\"spark.sql.extensions\", \"io.delta.sql.DeltaSparkSessionExtension\") \\\n",
    "            .config(\"spark.sql.catalog.spark_catalog\", \"org.apache.spark.sql.delta.catalog.DeltaCatalog\") \\\n",
    "            .getOrCreate()"
   ]
  },
  {
   "cell_type": "markdown",
   "id": "99db9c99-7633-4d6a-b924-1aedef02d91c",
   "metadata": {},
   "source": [
    "## Log configs"
   ]
  },
  {
   "cell_type": "code",
   "execution_count": 6,
   "id": "7567f5d1-2aec-4d4d-8bd4-a307ec95feee",
   "metadata": {},
   "outputs": [
    {
     "name": "stderr",
     "output_type": "stream",
     "text": [
      "2024-08-21 10:13:59,638 - INFO - Starting refinement to gold...\n"
     ]
    }
   ],
   "source": [
    "logging.basicConfig(level=logging.INFO, format='%(asctime)s - %(levelname)s - %(message)s')\n",
    "\n",
    "logging.info(\"Starting refinement to gold...\")"
   ]
  },
  {
   "cell_type": "markdown",
   "id": "b9e468c0-7950-49fc-9112-b65960b519a3",
   "metadata": {},
   "source": [
    "## Path configs"
   ]
  },
  {
   "cell_type": "code",
   "execution_count": 7,
   "id": "8ca49cdd-c4cb-49e8-b311-b16e7c0046e0",
   "metadata": {},
   "outputs": [],
   "source": [
    "input_prefix_layer_name = configs.prefix_layer_name['2']  # silver layer\n",
    "input_path = configs.lake_path['silver']\n",
    "\n",
    "output_prefix_layer_name = configs.prefix_layer_name['3']  # gold layer\n",
    "output_path = configs.lake_path['gold']"
   ]
  },
  {
   "cell_type": "markdown",
   "id": "b73d4262-40e9-4722-a7e4-eb77344dd482",
   "metadata": {},
   "source": [
    "## Process"
   ]
  },
  {
   "cell_type": "code",
   "execution_count": 8,
   "id": "59373a4f-a244-46c4-9d56-9200f10ff55a",
   "metadata": {},
   "outputs": [
    {
     "name": "stderr",
     "output_type": "stream",
     "text": [
      "2024-08-21 10:14:10,182 - INFO - query '\n",
      "SELECT \n",
      "    departmentid as id_departamento, \n",
      "    name as nome_departamento, \n",
      "    groupname as nome_grupo, \n",
      "    modifieddate, \n",
      "    last_update, \n",
      "    month_key \n",
      "FROM \n",
      "    delta.`s3a://silver/adventure_works/silver_humanresources_department`\n",
      "    ' sucessfully processed and saved to s3a://gold/adventure_works/gold_humanresources_department\n",
      "2024-08-21 10:14:12,184 - INFO - query '\n",
      "SELECT \n",
      "    groupname as nome_grupo, \n",
      "    modifieddate,\n",
      "    last_update, \n",
      "    month_key, \n",
      "    count(*) as qtd\n",
      "FROM \n",
      "    delta.`s3a://silver/adventure_works/silver_humanresources_department`\n",
      "group by \n",
      "\tgroupname,\n",
      "\tmodifieddate,\n",
      "    last_update, \n",
      "    month_key \n",
      "    ' sucessfully processed and saved to s3a://gold/adventure_works/gold_humanresources_groupname_qtd\n",
      "2024-08-21 10:14:12,186 - INFO - Refinement to gold completed!\n"
     ]
    }
   ],
   "source": [
    "try:\n",
    "    for table_name, query_input in configs.tables_gold.items():\n",
    "        table_name = F.convert_table_name(table_name)\n",
    "        \n",
    "        query_input = F.get_query(table_name, input_path, input_prefix_layer_name, configs.tables_gold)\n",
    "        \n",
    "        storage_output = f'{output_path}{output_prefix_layer_name}{table_name}'\n",
    "        \n",
    "        process_table(spark, query_input, storage_output)\n",
    "        \n",
    "    logging.info(\"Refinement to gold completed!\")\n",
    "    \n",
    "except Exception as e:\n",
    "    logging.error(f'Error processing table: {str(e)}')"
   ]
  },
  {
   "cell_type": "code",
   "execution_count": 9,
   "id": "e6a9bb86-b098-430c-99f6-e6c8c7d727b0",
   "metadata": {},
   "outputs": [
    {
     "name": "stdout",
     "output_type": "stream",
     "text": [
      "+---------------+--------------------------+------------------------------------+-------------------+--------------------------+---------+\n",
      "|id_departamento|nome_departamento         |nome_grupo                          |modifieddate       |last_update               |month_key|\n",
      "+---------------+--------------------------+------------------------------------+-------------------+--------------------------+---------+\n",
      "|1              |Engineering               |Research and Development            |2008-04-30 00:00:00|2024-08-21 10:14:07.204462|200804   |\n",
      "|2              |Tool Design               |Research and Development            |2008-04-30 00:00:00|2024-08-21 10:14:07.204462|200804   |\n",
      "|3              |Sales                     |Sales and Marketing                 |2008-04-30 00:00:00|2024-08-21 10:14:07.204462|200804   |\n",
      "|4              |Marketing                 |Sales and Marketing                 |2008-04-30 00:00:00|2024-08-21 10:14:07.204462|200804   |\n",
      "|5              |Purchasing                |Inventory Management                |2008-04-30 00:00:00|2024-08-21 10:14:07.204462|200804   |\n",
      "|6              |Research and Development  |Research and Development            |2008-04-30 00:00:00|2024-08-21 10:14:07.204462|200804   |\n",
      "|7              |Production                |Manufacturing                       |2008-04-30 00:00:00|2024-08-21 10:14:07.204462|200804   |\n",
      "|8              |Production Control        |Manufacturing                       |2008-04-30 00:00:00|2024-08-21 10:14:07.204462|200804   |\n",
      "|9              |Human Resources           |Executive General and Administration|2008-04-30 00:00:00|2024-08-21 10:14:07.204462|200804   |\n",
      "|10             |Finance                   |Executive General and Administration|2008-04-30 00:00:00|2024-08-21 10:14:07.204462|200804   |\n",
      "|11             |Information Services      |Executive General and Administration|2008-04-30 00:00:00|2024-08-21 10:14:07.204462|200804   |\n",
      "|12             |Document Control          |Quality Assurance                   |2008-04-30 00:00:00|2024-08-21 10:14:07.204462|200804   |\n",
      "|13             |Quality Assurance         |Quality Assurance                   |2008-04-30 00:00:00|2024-08-21 10:14:07.204462|200804   |\n",
      "|14             |Facilities and Maintenance|Executive General and Administration|2008-04-30 00:00:00|2024-08-21 10:14:07.204462|200804   |\n",
      "|15             |Shipping and Receiving    |Inventory Management                |2008-04-30 00:00:00|2024-08-21 10:14:07.204462|200804   |\n",
      "|16             |Executive                 |Executive General and Administration|2008-04-30 00:00:00|2024-08-21 10:14:07.204462|200804   |\n",
      "+---------------+--------------------------+------------------------------------+-------------------+--------------------------+---------+\n",
      "\n"
     ]
    }
   ],
   "source": [
    "df = spark.read.format(\"delta\").load('s3a://gold/adventure_works/gold_humanresources_department').show(truncate=False)"
   ]
  }
 ],
 "metadata": {
  "kernelspec": {
   "display_name": "Python 3 (ipykernel)",
   "language": "python",
   "name": "python3"
  },
  "language_info": {
   "codemirror_mode": {
    "name": "ipython",
    "version": 3
   },
   "file_extension": ".py",
   "mimetype": "text/x-python",
   "name": "python",
   "nbconvert_exporter": "python",
   "pygments_lexer": "ipython3",
   "version": "3.10.8"
  }
 },
 "nbformat": 4,
 "nbformat_minor": 5
}
