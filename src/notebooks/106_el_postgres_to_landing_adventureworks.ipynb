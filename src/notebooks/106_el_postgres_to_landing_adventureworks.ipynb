{
 "cells": [
  {
   "cell_type": "markdown",
   "id": "06b54693-49c4-49bb-935f-96461398e329",
   "metadata": {},
   "source": [
    "# el_postgres_to_landing_adventureworks"
   ]
  },
  {
   "cell_type": "code",
   "execution_count": 3,
   "id": "4ae186d0-fd75-448e-aa86-6541955dc5d3",
   "metadata": {},
   "outputs": [
    {
     "name": "stdout",
     "output_type": "stream",
     "text": [
      "Requirement already satisfied: python-dotenv in /opt/conda/lib/python3.10/site-packages (1.0.1)\n",
      "Note: you may need to restart the kernel to use updated packages.\n"
     ]
    }
   ],
   "source": [
    "pip install python-dotenv"
   ]
  },
  {
   "cell_type": "code",
   "execution_count": 4,
   "id": "ab70d454-3d68-4bad-9bf1-b978556ca2cd",
   "metadata": {},
   "outputs": [],
   "source": [
    "import pyspark\n",
    "from pyspark.sql import SparkSession\n",
    "import logging\n",
    "from configs import configs\n",
    "from functions import functions as F\n",
    "\n",
    "from dotenv import load_dotenv\n",
    "import os"
   ]
  },
  {
   "cell_type": "markdown",
   "id": "a473b1f3-f8f4-4b3c-ad0b-dd3edf64108c",
   "metadata": {},
   "source": [
    "## Import Environment"
   ]
  },
  {
   "cell_type": "code",
   "execution_count": 5,
   "id": "728f05fd-dbf2-490b-bd24-9c63ee3d1377",
   "metadata": {},
   "outputs": [],
   "source": [
    "load_dotenv()\n",
    "\n",
    "HOST_ADDRESS=os.getenv('HOST_ADDRESS')\n",
    "MINIO_ACCESS_KEY=os.getenv('MINIO_ACCESS_KEY')\n",
    "MINIO_SECRET_KEY=os.getenv('MINIO_SECRET_KEY')\n",
    "USER_POSTGRES=os.getenv('USER_POSTGRES')\n",
    "PASSWORD_POSTGRES=os.getenv('PASSWORD_POSTGRES')"
   ]
  },
  {
   "cell_type": "markdown",
   "id": "c000cc73-3abc-4c81-8b71-a062beaab9b3",
   "metadata": {},
   "source": [
    "## Spark Session"
   ]
  },
  {
   "cell_type": "code",
   "execution_count": 6,
   "id": "c39deec2-3a63-4cf5-b492-052dede8cb23",
   "metadata": {},
   "outputs": [],
   "source": [
    "spark = SparkSession.builder \\\n",
    "        .appName(\"el_postgres_to_landing_adventureworks\") \\\n",
    "        .config(\"spark.hadoop.fs.s3a.endpoint\", f\"http://{HOST_ADDRESS}:9000\") \\\n",
    "        .config(\"spark.hadoop.fs.s3a.access.key\", MINIO_ACCESS_KEY) \\\n",
    "        .config(\"spark.hadoop.fs.s3a.secret.key\", MINIO_SECRET_KEY) \\\n",
    "        .config(\"spark.hadoop.fs.s3a.path.style.access\", True) \\\n",
    "        .config(\"spark.hadoop.fs.s3a.impl\", \"org.apache.hadoop.fs.s3a.S3AFileSystem\") \\\n",
    "        .config(\"spark.hadoop.fs.s3a.aws.credentials.provider\", \"org.apache.hadoop.fs.s3a.SimpleAWSCredentialsProvider\") \\\n",
    "        .config(\"hive.metastore.uris\", \"thrift://metastore:9083\") \\\n",
    "        .config(\"spark.sql.extensions\", \"io.delta.sql.DeltaSparkSessionExtension\") \\\n",
    "        .config(\"spark.sql.catalog.spark_catalog\", \"org.apache.spark.sql.delta.catalog.DeltaCatalog\") \\\n",
    "        .getOrCreate()"
   ]
  },
  {
   "cell_type": "markdown",
   "id": "16a674e2-1ae1-4f87-b761-1c3db8591fe1",
   "metadata": {},
   "source": [
    "## Log configs"
   ]
  },
  {
   "cell_type": "code",
   "execution_count": 7,
   "id": "8be481ee-38ce-4f08-872b-fbcc32993a8f",
   "metadata": {},
   "outputs": [
    {
     "name": "stderr",
     "output_type": "stream",
     "text": [
      "2024-09-22 23:23:52,871 - INFO - Starting ingestions from Postgres to Minio landing Adventureworks...\n"
     ]
    }
   ],
   "source": [
    "logging.basicConfig(level=logging.INFO, format='%(asctime)s - %(levelname)s - %(message)s')\n",
    "\n",
    "logging.info(\"Starting ingestions from Postgres to Minio landing Adventureworks...\")"
   ]
  },
  {
   "cell_type": "markdown",
   "id": "f83c9ce4-8419-4c7d-b471-c55ffb640a23",
   "metadata": {},
   "source": [
    "## Process"
   ]
  },
  {
   "cell_type": "code",
   "execution_count": 8,
   "id": "6ed9c323-fd5d-439a-a04b-6c028fdc469f",
   "metadata": {},
   "outputs": [
    {
     "name": "stderr",
     "output_type": "stream",
     "text": [
      "2024-09-22 23:24:09,178 - INFO - Processing table: sales_countryregioncurrency\n",
      "2024-09-22 23:24:15,202 - INFO - Table sales_countryregioncurrency successfully processed and saved to Minio: s3a://landing/adventure_works/landing_sales_countryregioncurrency\n",
      "2024-09-22 23:24:15,321 - INFO - Processing table: sales_creditcard\n",
      "2024-09-22 23:24:31,615 - INFO - Table sales_creditcard successfully processed and saved to Minio: s3a://landing/adventure_works/landing_sales_creditcard\n",
      "2024-09-22 23:24:31,710 - INFO - Processing table: sales_currency\n",
      "2024-09-22 23:24:32,697 - INFO - Table sales_currency successfully processed and saved to Minio: s3a://landing/adventure_works/landing_sales_currency\n",
      "2024-09-22 23:24:32,817 - INFO - Processing table: humanresources_department\n",
      "2024-09-22 23:24:33,854 - INFO - Table humanresources_department successfully processed and saved to Minio: s3a://landing/adventure_works/landing_humanresources_department\n",
      "2024-09-22 23:24:33,946 - INFO - Processing table: humanresources_employee\n",
      "2024-09-22 23:24:35,183 - INFO - Table humanresources_employee successfully processed and saved to Minio: s3a://landing/adventure_works/landing_humanresources_employee\n",
      "2024-09-22 23:24:35,292 - INFO - Processing table: sales_salesorderheader\n",
      "2024-09-22 23:24:45,481 - INFO - Table sales_salesorderheader successfully processed and saved to Minio: s3a://landing/adventure_works/landing_sales_salesorderheader\n",
      "2024-09-22 23:24:45,483 - INFO - Ingestions to Landing Zone completed!\n"
     ]
    }
   ],
   "source": [
    "for table_input_name in configs.tables_postgres_adventureworks.values():\n",
    "    try:\n",
    "        table_input_path = F.convert_table_name(table_input_name)\n",
    "\n",
    "        df_input_data = spark.read \\\n",
    "            .format(\"jdbc\") \\\n",
    "            .option(\"url\", f\"jdbc:postgresql://{HOST_ADDRESS}:5435/Adventureworks\") \\\n",
    "            .option(\"user\", USER_POSTGRES) \\\n",
    "            .option(\"dbtable\", table_input_name) \\\n",
    "            .option(\"password\", PASSWORD_POSTGRES) \\\n",
    "            .option(\"driver\", \"org.postgresql.Driver\") \\\n",
    "            .load()\n",
    "\n",
    "        output_prefix_layer_name = configs.prefix_layer_name['0']\n",
    "        output_table_name = configs.lake_path['landing_adventure_works']\n",
    "        output_table_path = f\"{output_table_name}{output_prefix_layer_name}{table_input_path}\"\n",
    "\n",
    "        logging.info(f\"Processing table: {table_input_path}\")\n",
    "\n",
    "        df_with_update_date = F.add_metadata(df_input_data)\n",
    "        df_with_month_key = F.add_month_key(df_with_update_date, 'modifieddate')\n",
    "        df_with_month_key.write.format(\"parquet\").mode(\"overwrite\").partitionBy('month_key').save(output_table_path)\n",
    "\n",
    "        logging.info(f\"Table {table_input_path} successfully processed and saved to Minio: {output_table_path}\")\n",
    "\n",
    "    except Exception as e:\n",
    "        logging.error(f\"Error processing table {table_input_name}: {str(e)}\")\n",
    "\n",
    "logging.info(\"Ingestions to Landing Zone completed!\")"
   ]
  }
 ],
 "metadata": {
  "kernelspec": {
   "display_name": "Python 3 (ipykernel)",
   "language": "python",
   "name": "python3"
  },
  "language_info": {
   "codemirror_mode": {
    "name": "ipython",
    "version": 3
   },
   "file_extension": ".py",
   "mimetype": "text/x-python",
   "name": "python",
   "nbconvert_exporter": "python",
   "pygments_lexer": "ipython3",
   "version": "3.10.8"
  }
 },
 "nbformat": 4,
 "nbformat_minor": 5
}
