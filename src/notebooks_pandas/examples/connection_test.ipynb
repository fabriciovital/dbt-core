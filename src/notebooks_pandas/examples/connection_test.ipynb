{
 "cells": [
  {
   "cell_type": "code",
   "execution_count": 17,
   "id": "15a4f3de-9d72-407a-891b-17b117b6b945",
   "metadata": {},
   "outputs": [
    {
     "name": "stdout",
     "output_type": "stream",
     "text": [
      "Conexão bem-sucedida com 172.21.0.4:5432\n"
     ]
    }
   ],
   "source": [
    "import socket\n",
    "\n",
    "def check_port(host, port):\n",
    "    sock = socket.socket(socket.AF_INET, socket.SOCK_STREAM)\n",
    "    sock.settimeout(1)  # tempo limite de 1 segundo\n",
    "    result = sock.connect_ex((host, port))\n",
    "    sock.close()\n",
    "    return result == 0  # Retorna True se a porta estiver aberta\n",
    "\n",
    "# Use o IP do MinIO e a porta padrão (9000)\n",
    "host = '172.21.0.4'\n",
    "port = 5432\n",
    "\n",
    "if check_port(host, port):\n",
    "    print(f\"Conexão bem-sucedida com {host}:{port}\")\n",
    "else:\n",
    "    print(f\"Não foi possível conectar a {host}:{port}\")"
   ]
  },
  {
   "cell_type": "code",
   "execution_count": null,
   "id": "82646c4b-6b1c-4868-9afe-68a04e0b651e",
   "metadata": {
    "jupyter": {
     "source_hidden": true
    },
    "tags": []
   },
   "outputs": [],
   "source": []
  }
 ],
 "metadata": {
  "kernelspec": {
   "display_name": "Python 3 (ipykernel)",
   "language": "python",
   "name": "python3"
  },
  "language_info": {
   "codemirror_mode": {
    "name": "ipython",
    "version": 3
   },
   "file_extension": ".py",
   "mimetype": "text/x-python",
   "name": "python",
   "nbconvert_exporter": "python",
   "pygments_lexer": "ipython3",
   "version": "3.10.8"
  }
 },
 "nbformat": 4,
 "nbformat_minor": 5
}
