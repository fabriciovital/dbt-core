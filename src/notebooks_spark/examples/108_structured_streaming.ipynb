{
 "cells": [
  {
   "cell_type": "markdown",
   "id": "59f80693-4bcf-4360-87d4-e927a468fea2",
   "metadata": {},
   "source": [
    "# Structured Streaming"
   ]
  },
  {
   "cell_type": "code",
   "execution_count": 1,
   "id": "7847c364-0310-46e7-8879-4469ca3aef1f",
   "metadata": {},
   "outputs": [],
   "source": [
    "from pyspark import SparkContext, SparkConf\n",
    "from pyspark.sql import SparkSession\n",
    "from pyspark.sql.functions import *\n",
    "from pyspark.sql.types import *\n",
    "from dotenv import load_dotenv\n",
    "import os"
   ]
  },
  {
   "cell_type": "code",
   "execution_count": null,
   "id": "51cb510a-6819-408a-963e-23333e12ba51",
   "metadata": {},
   "outputs": [],
   "source": [
    "load_dotenv()\n",
    "\n",
    "HOST_ADDRESS = os.getenv(\"HOST_ADDRESS\")\n",
    "MINIO_ACCESS_KEY = os.getenv(\"MINIO_ACCESS_KEY\")\n",
    "MINIO_SECRET_KEY = os.getenv(\"MINIO_SECRET_KEY\")\n",
    "\n",
    "conf = SparkConf()\n",
    "\n",
    "conf.setAppName(\"Sample Structured Streaming\")\n",
    "conf.set(\"spark.hadoop.fs.s3a.endpoint\", f\"http://{HOST_ADDRESS}:9000\")\n",
    "conf.set(\"spark.hadoop.fs.s3a.access.key\", MINIO_ACCESS_KEY)\n",
    "conf.set(\"spark.hadoop.fs.s3a.secret.key\", MINIO_SECRET_KEY)\n",
    "conf.set(\"spark.hadoop.fs.s3a.path.style.access\", True)\n",
    "conf.set(\"spark.hadoop.fs.s3a.impl\", \"org.apache.hadoop.fs.s3a.S3AFileSystem\")\n",
    "conf.set('spark.hadoop.fs.s3a.aws.credentials.provider', 'org.apache.hadoop.fs.s3a.SimpleAWSCredentialsProvider')\n",
    "conf.set(\"spark.sql.extensions\", \"io.delta.sql.DeltaSparkSessionExtension\")\n",
    "conf.set(\"spark.sql.catalog.spark_catalog\", \"org.apache.spark.sql.delta.catalog.DeltaCatalog\") \n",
    "conf.set(\"hive.metastore.uris\", \"thrift://metastore:9083\")\n",
    "\n",
    "spark = SparkSession.builder.config(conf=conf).enableHiveSupport().getOrCreate()"
   ]
  },
  {
   "cell_type": "markdown",
   "id": "0311561e-a456-43e5-ad02-887ad5181820",
   "metadata": {},
   "source": [
    "## Configs path for streaming"
   ]
  },
  {
   "cell_type": "code",
   "execution_count": 5,
   "id": "51996f5b-a243-4ab9-90c7-532072bb56a1",
   "metadata": {},
   "outputs": [],
   "source": [
    "input_directory = \"s3a://landing/pacientes/*.json\"\n",
    "\n",
    "checkpoint_directory = \"s3a://landing/pacientes/checkpoint\""
   ]
  },
  {
   "cell_type": "markdown",
   "id": "ed173dec-6a4d-4d54-b564-1dd21e61fc29",
   "metadata": {},
   "source": [
    "## Function Main"
   ]
  },
  {
   "cell_type": "code",
   "execution_count": 7,
   "id": "05254ef0-e92b-4d56-b798-29e5cae5fc1f",
   "metadata": {},
   "outputs": [],
   "source": [
    "if __name__ == \"__main__\":\n",
    "    jsonschema = StructType([\n",
    "        StructField(\"idpacientes\", IntegerType(), True), \n",
    "        StructField(\"nome\", StringType(), True), \n",
    "        StructField(\"situacao\", StringType(), True)\n",
    "    ])\n",
    "    \n",
    "    df = spark.readStream.schema(jsonschema).json(input_directory)\n",
    "    \n",
    "    def update_postgres (df, BatchId):\n",
    "        try:\n",
    "            df.write.format(\"jdbc\") \\\n",
    "            .option(\"url\", \"jdbc:postgresql://172.21.121.140:5435/Adventureworks\") \\\n",
    "            .option(\"dbtable\", \"tb_pacientes\") \\\n",
    "            .option(\"user\", \"postgres\") \\\n",
    "            .option(\"password\", \"postgres\") \\\n",
    "            .option(\"driver\", \"org.postgresql.Driver\") \\\n",
    "            .mode(\"append\") \\\n",
    "            .save()\n",
    "        except Exception as e:\n",
    "            print(f\"Error during batch write: {str(e)}\")            "
   ]
  },
  {
   "cell_type": "code",
   "execution_count": null,
   "id": "465de46b-04c4-4533-9974-65025fbade90",
   "metadata": {},
   "outputs": [],
   "source": [
    "streamingQuery = df.writeStream.foreachBatch(update_postgres) \\\n",
    "    .outputMode(\"append\") \\\n",
    "    .trigger(processingTime=\"5 seconds\") \\\n",
    "    .option(\"checkpointLocation\", checkpoint_directory) \\\n",
    "    .start()\n",
    "\n",
    "streamingQuery.awaitTermination()"
   ]
  }
 ],
 "metadata": {
  "kernelspec": {
   "display_name": "Python 3 (ipykernel)",
   "language": "python",
   "name": "python3"
  },
  "language_info": {
   "codemirror_mode": {
    "name": "ipython",
    "version": 3
   },
   "file_extension": ".py",
   "mimetype": "text/x-python",
   "name": "python",
   "nbconvert_exporter": "python",
   "pygments_lexer": "ipython3",
   "version": "3.10.8"
  }
 },
 "nbformat": 4,
 "nbformat_minor": 5
}
