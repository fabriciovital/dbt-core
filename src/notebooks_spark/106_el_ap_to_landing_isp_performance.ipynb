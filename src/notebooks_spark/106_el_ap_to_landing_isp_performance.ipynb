{
 "cells": [
  {
   "cell_type": "markdown",
   "id": "06b54693-49c4-49bb-935f-96461398e329",
   "metadata": {},
   "source": [
    "# el_api_to_landing_isp_performance"
   ]
  },
  {
   "cell_type": "code",
   "execution_count": 1,
   "id": "ab70d454-3d68-4bad-9bf1-b978556ca2cd",
   "metadata": {},
   "outputs": [],
   "source": [
    "import requests\n",
    "from configs import configs"
   ]
  },
  {
   "cell_type": "markdown",
   "id": "eb9ab66f-89b7-4d00-8d19-5ade718ef04f",
   "metadata": {},
   "source": [
    "# PROCESS"
   ]
  },
  {
   "cell_type": "code",
   "execution_count": 2,
   "id": "678eb3d1-c537-4a81-b6c2-ff00e9f007eb",
   "metadata": {},
   "outputs": [
    {
     "name": "stdout",
     "output_type": "stream",
     "text": [
      "Respostas das APIs: {'1': 'Encaminhado com sucesso ao bucket!!', '2': 'Encaminhado com sucesso ao bucket!!', '3': 'Encaminhado com sucesso ao bucket!!', '4': 'Encaminhado com sucesso ao bucket!!', '5': 'Encaminhado com sucesso ao bucket!!'}\n"
     ]
    }
   ],
   "source": [
    "def fetch_all_apis():\n",
    "    responses = {}\n",
    "\n",
    "    for key, url in configs.tables_landing.items():\n",
    "        try:\n",
    "            response = requests.get(url)\n",
    "            if response.status_code == 200:\n",
    "                responses[key] = response.json()  # Armazena a resposta JSON no dicionário\n",
    "            else:\n",
    "                print(f\"Erro: Código de status {response.status_code} para a URL {url}\")\n",
    "                responses[key] = None  # Armazena None para indicar que houve erro\n",
    "        except requests.exceptions.RequestException as e:\n",
    "            print(f\"Erro na requisição para {url}: {e}\")\n",
    "            responses[key] = None\n",
    "\n",
    "    return responses\n",
    "\n",
    "# Exemplo de uso\n",
    "api_responses = fetch_all_apis()\n",
    "print(\"Respostas das APIs:\", api_responses)"
   ]
  }
 ],
 "metadata": {
  "kernelspec": {
   "display_name": "Python 3 (ipykernel)",
   "language": "python",
   "name": "python3"
  },
  "language_info": {
   "codemirror_mode": {
    "name": "ipython",
    "version": 3
   },
   "file_extension": ".py",
   "mimetype": "text/x-python",
   "name": "python",
   "nbconvert_exporter": "python",
   "pygments_lexer": "ipython3",
   "version": "3.10.8"
  }
 },
 "nbformat": 4,
 "nbformat_minor": 5
}
