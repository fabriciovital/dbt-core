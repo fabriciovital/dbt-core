{
 "cells": [
  {
   "cell_type": "markdown",
   "id": "06b54693-49c4-49bb-935f-96461398e329",
   "metadata": {},
   "source": [
    "# el_api_to_landing_isp_performance"
   ]
  },
  {
   "cell_type": "code",
   "execution_count": 1,
   "id": "ab70d454-3d68-4bad-9bf1-b978556ca2cd",
   "metadata": {},
   "outputs": [],
   "source": [
    "import pyspark\n",
    "from pyspark.sql import SparkSession\n",
    "import logging\n",
    "from dotenv import load_dotenv\n",
    "import os\n",
    "import requests\n",
    "import pandas as pd\n",
    "from pyspark.sql import types as T\n",
    "from functions import functions as F"
   ]
  },
  {
   "cell_type": "markdown",
   "id": "a473b1f3-f8f4-4b3c-ad0b-dd3edf64108c",
   "metadata": {},
   "source": [
    "## Import Environment"
   ]
  },
  {
   "cell_type": "code",
   "execution_count": 2,
   "id": "728f05fd-dbf2-490b-bd24-9c63ee3d1377",
   "metadata": {},
   "outputs": [],
   "source": [
    " # Carregar variáveis de ambiente\n",
    "load_dotenv()\n",
    "\n",
    "# Configurações de conexão\n",
    "HOST_ADDRESS = os.getenv('HOST_ADDRESS')\n",
    "MINIO_ACCESS_KEY = os.getenv('MINIO_ACCESS_KEY')\n",
    "MINIO_SECRET_KEY = os.getenv('MINIO_SECRET_KEY')\n",
    "\n",
    "# Configurações da API\n",
    "URL_TOKEN = \"http://keycloak.nexusitconsulting.com.br:8080/realms/ISPerformace/protocol/openid-connect/token\"\n",
    "API_URL = \"http://api.nexusitconsulting.com.br:3000/api/v1/ixc/ordem-servico/aberto\"\n",
    "\n",
    "# Credenciais para obter o token\n",
    "payload = {\n",
    "    \"grant_type\": \"password\",\n",
    "    \"client_id\": \"api\",\n",
    "    \"username\": \"superset@superset.com\",\n",
    "    \"password\": \"123\",\n",
    "    \"client_secret\": \"aJUbEhLzRJ4WWCOr0FjwoJ9Bkv9VUJUV\"\n",
    "}"
   ]
  },
  {
   "cell_type": "markdown",
   "id": "c000cc73-3abc-4c81-8b71-a062beaab9b3",
   "metadata": {},
   "source": [
    "## Spark Session"
   ]
  },
  {
   "cell_type": "code",
   "execution_count": 3,
   "id": "c39deec2-3a63-4cf5-b492-052dede8cb23",
   "metadata": {},
   "outputs": [],
   "source": [
    "# Iniciar a sessão do Spark\n",
    "spark = SparkSession.builder \\\n",
    "    .appName(\"el_api_to_landing\") \\\n",
    "    .config(\"spark.hadoop.fs.s3a.endpoint\", f\"http://{HOST_ADDRESS}:9000\") \\\n",
    "    .config(\"spark.hadoop.fs.s3a.access.key\", MINIO_ACCESS_KEY) \\\n",
    "    .config(\"spark.hadoop.fs.s3a.secret.key\", MINIO_SECRET_KEY) \\\n",
    "    .config(\"spark.hadoop.fs.s3a.path.style.access\", True) \\\n",
    "    .config(\"spark.hadoop.fs.s3a.impl\", \"org.apache.hadoop.fs.s3a.S3AFileSystem\") \\\n",
    "    .getOrCreate()"
   ]
  },
  {
   "cell_type": "markdown",
   "id": "16a674e2-1ae1-4f87-b761-1c3db8591fe1",
   "metadata": {},
   "source": [
    "## Log configs"
   ]
  },
  {
   "cell_type": "code",
   "execution_count": 4,
   "id": "8be481ee-38ce-4f08-872b-fbcc32993a8f",
   "metadata": {},
   "outputs": [
    {
     "name": "stderr",
     "output_type": "stream",
     "text": [
      "2024-10-21 03:29:02,871 - INFO - Starting ingestions from API to Minio landing...\n"
     ]
    }
   ],
   "source": [
    "# Configurar o log\n",
    "logging.basicConfig(level=logging.INFO, format='%(asctime)s - %(levelname)s - %(message)s')\n",
    "logging.info(\"Starting ingestions from API to Minio landing...\")"
   ]
  },
  {
   "cell_type": "markdown",
   "id": "2a2d8afb-17fd-44e1-8d8e-2c11703c3322",
   "metadata": {},
   "source": [
    "## Função para obter o token de autenticação"
   ]
  },
  {
   "cell_type": "code",
   "execution_count": 5,
   "id": "be194d27-8658-43d8-b494-d61602236af2",
   "metadata": {},
   "outputs": [],
   "source": [
    "# Função para obter o token de autenticação\n",
    "def get_token(url_token, payload):\n",
    "    try:\n",
    "        response = requests.post(url_token, data=payload, headers={\"Content-Type\": \"application/x-www-form-urlencoded\"})\n",
    "        response.raise_for_status()\n",
    "        token = response.json().get(\"access_token\")\n",
    "        logging.info(\"Token successfully obtained.\")\n",
    "        return token\n",
    "    except Exception as e:\n",
    "        logging.error(f\"Error obtaining token: {str(e)}\")\n",
    "        return None"
   ]
  },
  {
   "cell_type": "markdown",
   "id": "b4820d8d-ea31-4114-992d-4bfb6b159311",
   "metadata": {},
   "source": [
    "## Função para buscar dados da API e transformá-los em DataFrame Spark"
   ]
  },
  {
   "cell_type": "code",
   "execution_count": 6,
   "id": "98c56b6d-f857-4c5b-bcce-f205d374410b",
   "metadata": {},
   "outputs": [],
   "source": [
    "# Função para buscar dados da API e transformá-los em DataFrame Spark\n",
    "def fetch_data_from_api(api_url, token):\n",
    "    try:\n",
    "        headers = {\"Authorization\": f\"Bearer {token}\"}\n",
    "        response = requests.get(api_url, headers=headers)\n",
    "        response.raise_for_status()\n",
    "        data = response.json()\n",
    "        return data\n",
    "    except Exception as e:\n",
    "        logging.error(f\"Error fetching data from API: {str(e)}\")\n",
    "        return None"
   ]
  },
  {
   "cell_type": "markdown",
   "id": "86c855ca-5b45-4bd7-9f2b-1bb145766665",
   "metadata": {},
   "source": [
    "## Função para converter a resposta JSON em DataFrame Spark"
   ]
  },
  {
   "cell_type": "code",
   "execution_count": 7,
   "id": "644e082b-9139-4e04-bb6d-d0d33f975b56",
   "metadata": {},
   "outputs": [],
   "source": [
    "# Função para converter a resposta JSON em DataFrame Spark\n",
    "def convert_api_data_to_spark_df(api_data):\n",
    "    try:\n",
    "        if isinstance(api_data, list):\n",
    "            pdf = pd.DataFrame(api_data)\n",
    "            logging.info(f\"Fetched data contains {pdf.shape[0]} rows and {pdf.shape[1]} columns.\")\n",
    "            logging.info(f\"Data sample: {pdf.head()}\")  # Log do exemplo de dados\n",
    "        else:\n",
    "            raise ValueError(\"Formato inesperado para api_data\")\n",
    "\n",
    "        # Definindo o esquema da tabela com base nos campos retornados pela API\n",
    "        schema = T.StructType([\n",
    "            T.StructField(\"mensagemResposta\", T.StringType(), True),\n",
    "            T.StructField(\"dataHoraAnalise\", T.StringType(), True),\n",
    "            T.StructField(\"dataHoraEncaminhado\", T.StringType(), True),\n",
    "            T.StructField(\"dataHoraAssumido\", T.StringType(), True),\n",
    "            T.StructField(\"dataHoraExecucao\", T.StringType(), True),\n",
    "            T.StructField(\"idContratoKit\", T.StringType(), True),\n",
    "            T.StructField(\"preview\", T.StringType(), True),\n",
    "            T.StructField(\"dataAgendaFinal\", T.StringType(), True),\n",
    "            T.StructField(\"id\", T.StringType(), True),\n",
    "            T.StructField(\"tipo\", T.StringType(), True),\n",
    "            T.StructField(\"idFilial\", T.StringType(), True),\n",
    "            T.StructField(\"idWflTarefa\", T.StringType(), True),\n",
    "            T.StructField(\"statusSla\", T.StringType(), True),\n",
    "            T.StructField(\"dataAbertura\", T.StringType(), True),\n",
    "            T.StructField(\"melhorHorarioAgenda\", T.StringType(), True),\n",
    "            T.StructField(\"liberado\", T.StringType(), True),\n",
    "            T.StructField(\"status\", T.StringType(), True),\n",
    "            T.StructField(\"idCliente\", T.StringType(), True),\n",
    "            T.StructField(\"idAssunto\", T.StringType(), True),\n",
    "            T.StructField(\"setor\", T.StringType(), True),\n",
    "            T.StructField(\"idCidade\", T.StringType(), True),\n",
    "            T.StructField(\"idTecnico\", T.StringType(), True),\n",
    "            T.StructField(\"prioridade\", T.StringType(), True),\n",
    "            T.StructField(\"mensagem\", T.StringType(), True),\n",
    "            T.StructField(\"protocolo\", T.StringType(), True),\n",
    "            T.StructField(\"endereco\", T.StringType(), True),\n",
    "            T.StructField(\"complemento\", T.StringType(), True),\n",
    "            T.StructField(\"idCondominio\", T.StringType(), True),\n",
    "            T.StructField(\"bloco\", T.StringType(), True),\n",
    "            T.StructField(\"apartamento\", T.StringType(), True),\n",
    "            T.StructField(\"latitude\", T.StringType(), True),\n",
    "            T.StructField(\"bairro\", T.StringType(), True),\n",
    "            T.StructField(\"longitude\", T.StringType(), True),\n",
    "            T.StructField(\"referencia\", T.StringType(), True),\n",
    "            T.StructField(\"impresso\", T.StringType(), True),\n",
    "            T.StructField(\"dataInicio\", T.StringType(), True),\n",
    "            T.StructField(\"dataAgenda\", T.StringType(), True),\n",
    "            T.StructField(\"dataFinal\", T.StringType(), True),\n",
    "            T.StructField(\"dataFechamento\", T.StringType(), True),\n",
    "            T.StructField(\"idWflParamOs\", T.StringType(), True),\n",
    "            T.StructField(\"valorTotalComissao\", T.StringType(), True),\n",
    "            T.StructField(\"valorTotal\", T.StringType(), True),\n",
    "            T.StructField(\"valorOutrasDespesas\", T.StringType(), True),\n",
    "            T.StructField(\"idx\", T.StringType(), True),\n",
    "            T.StructField(\"idSuDiagnostico\", T.StringType(), True),\n",
    "            T.StructField(\"geraComissao\", T.StringType(), True),\n",
    "            T.StructField(\"idEstrutura\", T.StringType(), True),\n",
    "            T.StructField(\"idLogin\", T.StringType(), True),\n",
    "            T.StructField(\"valorUnitComissao\", T.StringType(), True),\n",
    "            T.StructField(\"dataPrazoLimite\", T.StringType(), True),\n",
    "            T.StructField(\"dataReservada\", T.StringType(), True),\n",
    "            T.StructField(\"idTicket\", T.StringType(), True),\n",
    "            T.StructField(\"origemEndereco\", T.StringType(), True),\n",
    "            T.StructField(\"justificativaSlaAtrasado\", T.StringType(), True),\n",
    "            T.StructField(\"origemEnderecoEstrutura\", T.StringType(), True),\n",
    "            T.StructField(\"dataReagendar\", T.StringType(), True),\n",
    "            T.StructField(\"dataPrevFinal\", T.StringType(), True),\n",
    "            T.StructField(\"origemCadastro\", T.StringType(), True),\n",
    "            T.StructField(\"ultimaAtualizacao\", T.StringType(), True)\n",
    "        ])\n",
    "\n",
    "        # Convertendo para DataFrame Spark\n",
    "        spark_df = spark.createDataFrame(pdf, schema=schema)\n",
    "        logging.info(\"Data successfully converted to Spark DataFrame.\")\n",
    "        return spark_df\n",
    "    except Exception as e:\n",
    "        logging.error(f\"Error converting API data to Spark DataFrame: {str(e)}\")\n",
    "        return None"
   ]
  },
  {
   "cell_type": "markdown",
   "id": "f83c9ce4-8419-4c7d-b471-c55ffb640a23",
   "metadata": {
    "tags": []
   },
   "source": [
    "## Process"
   ]
  },
  {
   "cell_type": "code",
   "execution_count": 8,
   "id": "6ed9c323-fd5d-439a-a04b-6c028fdc469f",
   "metadata": {},
   "outputs": [
    {
     "name": "stderr",
     "output_type": "stream",
     "text": [
      "2024-10-21 03:29:03,152 - INFO - Token successfully obtained.\n",
      "2024-10-21 03:29:07,430 - INFO - Fetched data contains 6990 rows and 59 columns.\n",
      "2024-10-21 03:29:07,444 - INFO - Data sample:   mensagemResposta      dataHoraAnalise  dataHoraEncaminhado  \\\n",
      "0             None                 None                 None   \n",
      "1             None                 None                 None   \n",
      "2             None  0000-00-00 00:00:00  0000-00-00 00:00:00   \n",
      "3             None                 None  2022-10-17 17:42:27   \n",
      "4             None                 None                 None   \n",
      "\n",
      "      dataHoraAssumido     dataHoraExecucao idContratoKit preview  \\\n",
      "0                 None                 None         28975    None   \n",
      "1                 None                 None             0    None   \n",
      "2  0000-00-00 00:00:00  0000-00-00 00:00:00         34241    None   \n",
      "3                 None  2022-07-01 09:04:13             0    None   \n",
      "4                 None                 None             0    None   \n",
      "\n",
      "       dataAgendaFinal      id tipo  ...      dataPrazoLimite dataReservada  \\\n",
      "0                 None  139283    C  ...  2021-07-29 21:00:20    0000-00-00   \n",
      "1                 None  215569    C  ...                 None          None   \n",
      "2  0000-00-00 00:00:00  223307    C  ...  0000-00-00 00:00:00    0000-00-00   \n",
      "3  2022-07-01 11:00:43  235300    E  ...                 None    0000-00-00   \n",
      "4  2022-07-01 18:00:10  237653    E  ...                 None    0000-00-00   \n",
      "\n",
      "  idTicket origemEndereco justificativaSlaAtrasado origemEnderecoEstrutura  \\\n",
      "0    51411              C                     None                       E   \n",
      "1    77209              M                     None                       E   \n",
      "2        0              M                     None                       E   \n",
      "3    83763              M                     None                       E   \n",
      "4    84684              M                     None                       E   \n",
      "\n",
      "         dataReagendar        dataPrevFinal origemCadastro  \\\n",
      "0                 None                 None              P   \n",
      "1                 None                 None              P   \n",
      "2  0000-00-00 00:00:00  0000-00-00 00:00:00              P   \n",
      "3                 None                 None              P   \n",
      "4                 None                 None              P   \n",
      "\n",
      "     ultimaAtualizacao  \n",
      "0  2021-12-08 22:40:12  \n",
      "1  2022-05-02 08:41:59  \n",
      "2  2022-06-13 18:51:52  \n",
      "3  2022-10-17 17:42:27  \n",
      "4  2022-07-01 16:27:29  \n",
      "\n",
      "[5 rows x 59 columns]\n",
      "/usr/local/spark/python/pyspark/sql/pandas/conversion.py:486: FutureWarning: iteritems is deprecated and will be removed in a future version. Use .items instead.\n",
      "  for column, series in pdf.iteritems():\n",
      "2024-10-21 03:29:13,028 - INFO - Data successfully converted to Spark DataFrame.\n"
     ]
    },
    {
     "name": "stdout",
     "output_type": "stream",
     "text": [
      "+-------------------+\n",
      "|dataAbertura       |\n",
      "+-------------------+\n",
      "|2021-07-29 15:00:20|\n",
      "|2022-05-02 08:41:59|\n",
      "|2022-05-23 15:50:37|\n",
      "|2022-06-24 09:59:58|\n",
      "|2022-07-01 16:26:43|\n",
      "|2022-07-02 09:29:08|\n",
      "|2022-07-12 11:16:48|\n",
      "|2022-07-22 10:46:01|\n",
      "|2022-07-31 19:13:29|\n",
      "|2022-08-12 16:15:50|\n",
      "|2022-08-16 13:31:24|\n",
      "|2022-08-20 11:19:33|\n",
      "|2022-08-20 16:18:50|\n",
      "|2022-08-31 15:57:47|\n",
      "|2022-09-03 11:45:59|\n",
      "|2022-09-08 14:04:49|\n",
      "|2022-09-14 08:59:44|\n",
      "|2022-09-15 08:15:59|\n",
      "|2022-09-19 15:10:15|\n",
      "|2022-09-20 09:31:30|\n",
      "+-------------------+\n",
      "only showing top 20 rows\n",
      "\n"
     ]
    },
    {
     "name": "stderr",
     "output_type": "stream",
     "text": [
      "2024-10-21 03:29:28,854 - INFO - Data successfully saved to MinIO at s3a://landing/isp_performance/landing_ordem_servico_aberto.\n"
     ]
    }
   ],
   "source": [
    "# Processar e salvar os dados da API\n",
    "def process_and_save_api_data():\n",
    "    try:\n",
    "        # Obter o token de autenticação\n",
    "        token = get_token(URL_TOKEN, payload)\n",
    "        if not token:\n",
    "            raise Exception(\"No token obtained.\")\n",
    "\n",
    "        # Buscar dados da API usando o token\n",
    "        api_data = fetch_data_from_api(API_URL, token)\n",
    "        if not api_data:\n",
    "            raise Exception(\"No data obtained from the API.\")\n",
    "\n",
    "        # Converter dados da API para DataFrame Spark\n",
    "        spark_df = convert_api_data_to_spark_df(api_data)\n",
    "        if spark_df is None:\n",
    "            raise Exception(\"Error converting data to DataFrame.\")\n",
    "        \n",
    "        # Adicionar metadata e a coluna 'month_key'\n",
    "        spark_df.select(\"dataAbertura\").show(truncate=False)\n",
    "        df_with_update_date = F.add_metadata(spark_df)  # Se necessário, adicione metadados como no Script 1\n",
    "        df_with_month_key = F.add_month_key(df_with_update_date, 'dataAbertura')  # Substitua 'order_date' pela coluna correta\n",
    "\n",
    "        # Salvar os dados em um arquivo Parquet no MinIO\n",
    "        output_path = \"s3a://landing/isp_performance/landing_ordem_servico_aberto\"\n",
    "        df_with_month_key.write.mode(\"overwrite\").partitionBy('month_key').parquet(output_path)\n",
    "        logging.info(f\"Data successfully saved to MinIO at {output_path}.\")\n",
    "\n",
    "    except Exception as e:\n",
    "        logging.error(f\"Error during processing and saving API data: {str(e)}\")\n",
    "\n",
    "if __name__ == \"__main__\":\n",
    "    process_and_save_api_data()\n",
    "    spark.stop()"
   ]
  }
 ],
 "metadata": {
  "kernelspec": {
   "display_name": "Python 3 (ipykernel)",
   "language": "python",
   "name": "python3"
  },
  "language_info": {
   "codemirror_mode": {
    "name": "ipython",
    "version": 3
   },
   "file_extension": ".py",
   "mimetype": "text/x-python",
   "name": "python",
   "nbconvert_exporter": "python",
   "pygments_lexer": "ipython3",
   "version": "3.10.8"
  }
 },
 "nbformat": 4,
 "nbformat_minor": 5
}
